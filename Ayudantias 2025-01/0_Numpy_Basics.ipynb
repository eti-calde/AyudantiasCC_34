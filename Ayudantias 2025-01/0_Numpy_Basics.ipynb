{
 "cells": [
  {
   "cell_type": "markdown",
   "metadata": {},
   "source": [
    "# Numpy"
   ]
  },
  {
   "cell_type": "code",
   "execution_count": 1,
   "metadata": {},
   "outputs": [],
   "source": [
    "# IMPORTS\n",
    "import numpy as np\n",
    "import time"
   ]
  },
  {
   "cell_type": "markdown",
   "metadata": {},
   "source": [
    "## 1. Creación de Arrays\n",
    "\n",
    "- 1.1 np.array()\n",
    "\n",
    "- 1.2 Array 1D, 2D, 3D\n",
    "\n",
    "- 1.3 Array's Utiles\n",
    "\n",
    "- 1.4 Reshape()"
   ]
  },
  {
   "cell_type": "markdown",
   "metadata": {},
   "source": [
    "## 1.1 Cómo crear una array en numPy"
   ]
  },
  {
   "cell_type": "code",
   "execution_count": 3,
   "metadata": {},
   "outputs": [
    {
     "name": "stdout",
     "output_type": "stream",
     "text": [
      "Lista en Python: [1, 2, 3, 4, 5]\n",
      "Tipo de datos: <class 'list'>\n",
      "Lista en Numpy: [1 2 3 4 5]\n",
      "Tipo de datos: <class 'numpy.ndarray'>\n"
     ]
    }
   ],
   "source": [
    "# Lista en python\n",
    "lista_py = [1,2,3,4,5]\n",
    "print(\"Lista en Python:\", lista_py)\n",
    "print(\"Tipo de datos:\", type(lista_py))\n",
    "\n",
    "# Lista en numpy\n",
    "array_numpy = np.array([1,2,3,4,5])\n",
    "print(\"Lista en Numpy:\", array_numpy)\n",
    "print(\"Tipo de datos:\", type(array_numpy))"
   ]
  },
  {
   "cell_type": "markdown",
   "metadata": {},
   "source": [
    "## 1.2 Por qué ocupamos NumPy"
   ]
  },
  {
   "cell_type": "code",
   "execution_count": 2,
   "metadata": {},
   "outputs": [
    {
     "name": "stdout",
     "output_type": "stream",
     "text": [
      "Tiempo de ejecución lista: 2.225424289703369\n",
      "Tiempo de ejecución array: 0.11319541931152344\n"
     ]
    }
   ],
   "source": [
    "lista_grande = list(range(10000000))\n",
    "array_grande = np.array(lista_grande)\n",
    "\n",
    "inicio_timer1 = time.time()\n",
    "lista_cuadrado = [i**2 for i in lista_grande]\n",
    "fin_timer1 = time.time() - inicio_timer1\n",
    "\n",
    "inicio_timer2 = time.time()\n",
    "array_cuadrado = array_grande**2\n",
    "fin_timer2 = time.time() - inicio_timer2\n",
    "\n",
    "print(\"Tiempo de ejecución lista:\", fin_timer1)\n",
    "print(\"Tiempo de ejecución array:\", fin_timer2)"
   ]
  },
  {
   "cell_type": "markdown",
   "metadata": {},
   "source": [
    "## 1.3 Creando Arrays más grandes"
   ]
  },
  {
   "cell_type": "code",
   "execution_count": 8,
   "metadata": {},
   "outputs": [
    {
     "name": "stdout",
     "output_type": "stream",
     "text": [
      "\n",
      "Array 2D:\n",
      "[[1 2 3]\n",
      " [4 5 6]]\n",
      "Forma del array 2D: (2, 3)\n",
      "Número de dimensiones: 2\n",
      "\n",
      "Array 3D:\n",
      "[[[1 2]\n",
      "  [3 4]]\n",
      "\n",
      " [[5 6]\n",
      "  [7 8]]]\n",
      "Forma del array 3D: (2, 2, 2)\n",
      "Número de dimensiones: 3\n"
     ]
    }
   ],
   "source": [
    "array_2d = np.array([[1, 2, 3], [4, 5, 6]])\n",
    "print(\"\\nArray 2D:\")\n",
    "print(array_2d)\n",
    "print(\"Forma del array 2D:\", array_2d.shape)\n",
    "print(\"Número de dimensiones:\", array_2d.ndim)\n",
    "\n",
    "array_3d = np.array([[[1, 2], [3, 4]], [[5, 6], [7, 8]]])\n",
    "print(\"\\nArray 3D:\")\n",
    "print(array_3d)\n",
    "print(\"Forma del array 3D:\", array_3d.shape)\n",
    "print(\"Número de dimensiones:\", array_3d.ndim)\n"
   ]
  },
  {
   "cell_type": "markdown",
   "metadata": {},
   "source": [
    "## 1.4 Funciones útiles para crear arrays"
   ]
  },
  {
   "cell_type": "code",
   "execution_count": 10,
   "metadata": {},
   "outputs": [
    {
     "name": "stdout",
     "output_type": "stream",
     "text": [
      "[0 1 2 3 4 5 6 7 8 9] \n",
      "\n",
      "[0 2 4 6 8] \n",
      "\n"
     ]
    }
   ],
   "source": [
    "# ARRANGE\n",
    "array_arange_simple = np.arange(10)\n",
    "print(array_arange_simple, \"\\n\")\n",
    "\n",
    "array_arange_steps = np.arange(0, 10, 2)\n",
    "print(array_arange_steps, \"\\n\")"
   ]
  },
  {
   "cell_type": "code",
   "execution_count": 18,
   "metadata": {},
   "outputs": [
    {
     "name": "stdout",
     "output_type": "stream",
     "text": [
      "[ 1.  2.  3.  4.  5.  6.  7.  8.  9. 10.] \n",
      "\n",
      "[  0.  25.  50.  75. 100.] \n",
      "\n"
     ]
    }
   ],
   "source": [
    "#LINSPACE\n",
    "array_linspace1 = np.linspace(1, 10, 10)\n",
    "print(array_linspace1, \"\\n\")\n",
    "\n",
    "array_linspace2 = np.linspace(0, 100, 5)\n",
    "print(array_linspace2, \"\\n\")\n"
   ]
  },
  {
   "cell_type": "code",
   "execution_count": 20,
   "metadata": {},
   "outputs": [
    {
     "name": "stdout",
     "output_type": "stream",
     "text": [
      "[[0. 0. 0.]\n",
      " [0. 0. 0.]\n",
      " [0. 0. 0.]] \n",
      "\n"
     ]
    }
   ],
   "source": [
    "# ZEROS\n",
    "array_zeros = np.zeros((3,3))\n",
    "print(array_zeros, \"\\n\")"
   ]
  },
  {
   "cell_type": "code",
   "execution_count": 21,
   "metadata": {},
   "outputs": [
    {
     "name": "stdout",
     "output_type": "stream",
     "text": [
      "[[1. 1. 1.]\n",
      " [1. 1. 1.]\n",
      " [1. 1. 1.]] \n",
      "\n"
     ]
    }
   ],
   "source": [
    "# ONES\n",
    "array_ones = np.ones((3,3))\n",
    "print(array_ones, \"\\n\")"
   ]
  },
  {
   "cell_type": "code",
   "execution_count": 23,
   "metadata": {},
   "outputs": [
    {
     "name": "stdout",
     "output_type": "stream",
     "text": [
      "[[3.14159265 3.14159265 3.14159265]\n",
      " [3.14159265 3.14159265 3.14159265]\n",
      " [3.14159265 3.14159265 3.14159265]] \n",
      "\n"
     ]
    }
   ],
   "source": [
    "# FULL\n",
    "array_full = np.full((3,3), np.pi)\n",
    "print(array_full, \"\\n\")"
   ]
  },
  {
   "cell_type": "code",
   "execution_count": 24,
   "metadata": {},
   "outputs": [
    {
     "name": "stdout",
     "output_type": "stream",
     "text": [
      "[[1. 0. 0.]\n",
      " [0. 1. 0.]\n",
      " [0. 0. 1.]] \n",
      "\n"
     ]
    }
   ],
   "source": [
    "# IDENTIDAD\n",
    "array_identidad = np.eye(3)\n",
    "print(array_identidad, \"\\n\")"
   ]
  },
  {
   "cell_type": "code",
   "execution_count": 43,
   "metadata": {},
   "outputs": [
    {
     "name": "stdout",
     "output_type": "stream",
     "text": [
      "Array original: \n",
      " [0 1 2 3 4 5 6 7 8] \n",
      "\n",
      "Array reshape: \n",
      " [[0 1 2]\n",
      " [3 4 5]\n",
      " [6 7 8]] \n",
      "\n",
      "Array original 2: \n",
      " [[0 1 2]\n",
      " [3 4 5]\n",
      " [6 7 8]] \n",
      "\n",
      "Array reshape2: \n",
      " [[0]\n",
      " [1]\n",
      " [2]\n",
      " [3]\n",
      " [4]\n",
      " [5]\n",
      " [6]\n",
      " [7]\n",
      " [8]] \n",
      "\n"
     ]
    }
   ],
   "source": [
    "# RESHAPE\n",
    "array_original = np.arange(9)\n",
    "print(\"Array original: \\n\", array_original, \"\\n\")\n",
    "\n",
    "array_reshape = array_original.reshape(3,3)\n",
    "print(\"Array reshape: \\n\", array_reshape, \"\\n\")\n",
    "\n",
    "array_original2 = np.arange(9).reshape(3,3)\n",
    "print(\"Array original 2: \\n\", array_original2, \"\\n\")\n",
    "\n",
    "array_reshape2 = array_original2.reshape(9,1)\n",
    "print(\"Array reshape2: \\n\", array_reshape2, \"\\n\")\n"
   ]
  },
  {
   "cell_type": "markdown",
   "metadata": {},
   "source": [
    "# 2. Propiedades e Indexación"
   ]
  },
  {
   "cell_type": "markdown",
   "metadata": {},
   "source": [
    "## 2.1 Propiedades"
   ]
  },
  {
   "cell_type": "code",
   "execution_count": 64,
   "metadata": {},
   "outputs": [
    {
     "name": "stdout",
     "output_type": "stream",
     "text": [
      "Array Base: \n",
      " [[1 2 3]\n",
      " [4 5 6]\n",
      " [7 8 9]] \n",
      "\n",
      "Forma del array:  (3, 3) \n",
      "\n",
      "Cantidad de elementos:  9 \n",
      "\n",
      "Número de dimesniones:  2 \n",
      "\n",
      "Tipo de datos en el array:  int64 \n",
      "\n",
      "Tamaño en bytes:  72\n"
     ]
    }
   ],
   "source": [
    "Array = np.array([[1,2,3],[4,5,6],[7,8,9]])\n",
    "print(\"Array Base: \\n\",Array , \"\\n\")\n",
    "\n",
    "# SHAPE\n",
    "print(\"Forma del array: \", Array.shape, \"\\n\")\n",
    "\n",
    "# SIZE\n",
    "print(\"Cantidad de elementos: \", Array.size, \"\\n\")\n",
    "\n",
    "# DIMESNIONES\n",
    "print(\"Número de dimesniones: \", Array.ndim, \"\\n\")\n",
    "\n",
    "# TIPO DE DATOS (Prueben cambiar un unico elemeto a float)\n",
    "print(\"Tipo de datos en el array: \", Array.dtype, \"\\n\")\n",
    "\n",
    "# TAMAÑO EN MEMORI (8 bits = 1 Byte)\n",
    "print(\"Tamaño en bytes: \", Array.nbytes)"
   ]
  },
  {
   "cell_type": "markdown",
   "metadata": {},
   "source": [
    "## 2.2 Conversión de tipos de datos"
   ]
  },
  {
   "cell_type": "code",
   "execution_count": 70,
   "metadata": {},
   "outputs": [
    {
     "name": "stdout",
     "output_type": "stream",
     "text": [
      "Array original (int64):\n",
      "[[1 2 3]\n",
      " [4 5 6]\n",
      " [7 8 9]]\n",
      "Tipo de datos: int64\n",
      "Tamaño total en bytes: 72 bytes\n",
      "\n",
      "Array convertido a float64:\n",
      "[[1. 2. 3.]\n",
      " [4. 5. 6.]\n",
      " [7. 8. 9.]]\n",
      "Tamaño total en bytes: 72 bytes\n",
      "\n",
      "Array convertido a int8:\n",
      "[[1 2 3]\n",
      " [4 5 6]\n",
      " [7 8 9]]\n",
      "Tamaño total en bytes: 9 bytes\n",
      "\n"
     ]
    }
   ],
   "source": [
    "array_int = np.array([[1, 2, 3], [4, 5, 6], [7, 8, 9]])\n",
    "print(\"Array original (int64):\")\n",
    "print(array_int)\n",
    "print(\"Tipo de datos:\", array_int.dtype)\n",
    "print(\"Tamaño total en bytes:\", array_int.nbytes, \"bytes\\n\")\n",
    "\n",
    "array_float = array_int.astype(np.float64)\n",
    "print(\"Array convertido a float64:\")\n",
    "print(array_float)\n",
    "print(\"Tamaño total en bytes:\", array_float.nbytes, \"bytes\\n\")\n",
    "\n",
    "array_int8 = array_int.astype(np.int8)\n",
    "print(\"Array convertido a int8:\")\n",
    "print(array_int8)\n",
    "print(\"Tamaño total en bytes:\", array_int8.nbytes, \"bytes\\n\")"
   ]
  },
  {
   "cell_type": "markdown",
   "metadata": {},
   "source": [
    "## 2.3 Indexación y Slicing"
   ]
  },
  {
   "cell_type": "code",
   "execution_count": 90,
   "metadata": {},
   "outputs": [
    {
     "name": "stdout",
     "output_type": "stream",
     "text": [
      "Matriz de ejemplo:\n",
      "[[11 12 13 14 15]\n",
      " [16 17 18 19 20]\n",
      " [21 22 23 24 25]\n",
      " [26 27 28 29 30]\n",
      " [31 32 33 34 35]]\n",
      "\n",
      "Elemento en la posición (0,0): 11\n",
      "\n",
      "Elemento en la posición (2,2): 23 \n",
      "\n",
      "Entender la notación ':' \n",
      "\n",
      "[[11 12 13 14 15]\n",
      " [16 17 18 19 20]\n",
      " [21 22 23 24 25]\n",
      " [26 27 28 29 30]\n",
      " [31 32 33 34 35]] \n",
      "\n",
      "Submatriz con las dos primeras filas:\n",
      "[[11 12 13 14 15]\n",
      " [16 17 18 19 20]] \n",
      "\n",
      "Elementos de la primera fila del indice 1 al 2\n",
      "[12 13] \n",
      "\n",
      "Todas las filas, con saltos en las columnas\n",
      "[[11 13 15]\n",
      " [16 18 20]\n",
      " [21 23 25]\n",
      " [26 28 30]\n",
      " [31 33 35]]\n"
     ]
    }
   ],
   "source": [
    "array_ejemplo = np.array([[11, 12, 13, 14, 15],\n",
    "                          [16, 17, 18, 19, 20],\n",
    "                          [21, 22, 23, 24, 25],\n",
    "                          [26, 27, 28, 29, 30],\n",
    "                          [31, 32, 33, 34, 35]])\n",
    "print(\"Matriz de ejemplo:\")\n",
    "print(array_ejemplo)\n",
    "\n",
    "# INDEXACIÓN BÁSICA\n",
    "print(\"\\nElemento en la posición (0,0):\", array_ejemplo[0, 0])\n",
    "print(\"\\nElemento en la posición (2,2):\", array_ejemplo[2, 2], \"\\n\")\n",
    "\n",
    "# SLICING\n",
    "print(\"Entender la notación ':' \\n\")\n",
    "print(array_ejemplo[:,:], \"\\n\")\n",
    "\n",
    "print(\"Submatriz con las dos primeras filas:\")\n",
    "print(array_ejemplo[:2, :], \"\\n\")\n",
    "\n",
    "print(\"Elementos de la primera fila del indice 1 al 2\")\n",
    "print(array_ejemplo[0,1:3],\"\\n\")\n",
    "\n",
    "print(\"Todas las filas, con saltos en las columnas\")\n",
    "print(array_ejemplo[:, ::2])"
   ]
  }
 ],
 "metadata": {
  "kernelspec": {
   "display_name": "venv",
   "language": "python",
   "name": "python3"
  },
  "language_info": {
   "codemirror_mode": {
    "name": "ipython",
    "version": 3
   },
   "file_extension": ".py",
   "mimetype": "text/x-python",
   "name": "python",
   "nbconvert_exporter": "python",
   "pygments_lexer": "ipython3",
   "version": "3.12.9"
  }
 },
 "nbformat": 4,
 "nbformat_minor": 2
}
