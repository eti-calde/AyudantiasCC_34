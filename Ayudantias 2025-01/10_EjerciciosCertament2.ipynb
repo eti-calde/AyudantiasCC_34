{
 "cells": [
  {
   "cell_type": "markdown",
   "id": "3e6b7e09",
   "metadata": {},
   "source": [
    "# **Ayudantía 10 - Ejercicios C2**\n",
    "## Etienne Rojas\n",
    "\n",
    "Ante cualquier duda o posible corrección, por favor mandar un correo a `etienne.rojas@sansano.usm.cl` \n",
    "\n",
    "\n",
    "---"
   ]
  },
  {
   "cell_type": "code",
   "execution_count": 1,
   "id": "1de6fa8d",
   "metadata": {},
   "outputs": [],
   "source": [
    "import numpy as np\n",
    "import matplotlib.pyplot as plt"
   ]
  },
  {
   "cell_type": "markdown",
   "id": "7b38f49f",
   "metadata": {},
   "source": [
    "# **Ejercicio 2.4 Ajedrez**"
   ]
  },
  {
   "cell_type": "markdown",
   "id": "0a526301",
   "metadata": {},
   "source": [
    "## Función Auxiliar"
   ]
  },
  {
   "cell_type": "code",
   "execution_count": null,
   "id": "3e1e3ff1",
   "metadata": {},
   "outputs": [],
   "source": [
    "def ChessMatrixTransform(n, Dn):\n",
    "    '''\n",
    "    Transforma la matriz compacta D^{(n)} [2N X N+1] en la matriz C^{(n)} [2N X 2N]\n",
    "    La matriz C^{(n)} es una matriz de ajedrez que contiene los elementos de D^{(n)}\n",
    "    En posiciones espaciadas por elementos nulos a excepcion de las ultimas 2 columnas\n",
    "    que son iguales a las ultimas 2 columnas de D^{(n)}.\n",
    "\n",
    "    Args:\n",
    "        n (int): Índice de la matriz C^{(n)} y D^{(n)}.\n",
    "        Dn (ndarray): Matriz compacta de tamaño [2N X N+1] que almacena los no nulos de C^{(n)}.\n",
    "    \n",
    "    Returns:\n",
    "        C (ndarray): Matriz de ajedrez de tamaño [2N X 2N] que contiene los elementos de D^{(n)} en forma de ajedrez.\n",
    "    '''\n",
    "    \n",
    "    # ACA VA SU CÓDIGO\n",
    "\n",
    "\n",
    "\n",
    "    # ----------------\n",
    "\n",
    "    return C\n",
    "\n",
    "n = 3\n",
    "Dn = np.array([\n",
    "    [1, 2, 3, 4],\n",
    "    [5, 6, 7, 8],\n",
    "    [9, 10, 1, 2],\n",
    "    [3, 4, 5, 6],\n",
    "    [7, 8, 9, 10],\n",
    "    [1, 2, 3, 4],\n",
    "])\n",
    "C = ChessMatrixTransform(n, Dn)\n",
    "print(C)"
   ]
  },
  {
   "cell_type": "code",
   "execution_count": null,
   "id": "d92641c1",
   "metadata": {},
   "outputs": [],
   "source": [
    "def OneStepJacobi(n, Dn, b, x0):\n",
    "    '''\n",
    "    Realiza una iteración del método de Jacobi para la matriz C^{(n)} almacenada en Dn.\n",
    "    \n",
    "    Args:\n",
    "        n (int): Índice de la matriz C^{(n)} y D^{(n)}.\n",
    "        Dn (ndarray): Matriz compacta de tamaño 2n x (n+1) que almacena los no nulos de C^{(n)}.\n",
    "        b (ndarray): Vector del lado derecho de tamaño 2n.\n",
    "        x0 (ndarray): Vector inicial de tamaño 2n.\n",
    "    \n",
    "    Returns:\n",
    "        x1 (ndarray): Nuevo vector después de una iteración de Jacobi.\n",
    "    '''\n",
    "    # ACA VA SU CÓDIGO\n",
    "\n",
    "\n",
    "\n",
    "    # ----------------\n",
    "    \n",
    "    return x1"
   ]
  },
  {
   "cell_type": "markdown",
   "id": "d1acb1fa",
   "metadata": {},
   "source": [
    "## **Testear el Código**"
   ]
  },
  {
   "cell_type": "code",
   "execution_count": null,
   "id": "eb24b156",
   "metadata": {},
   "outputs": [],
   "source": [
    "n = 2\n",
    "Dn = np.array([\n",
    "    [50.0, 1.0, 1.0],\n",
    "    [50.0, 1.0, 1.0],\n",
    "    [1.0, 50.0, 1.0],\n",
    "    [1.0, 1.0, 50.0],\n",
    "])\n",
    "\n",
    "C = ChessMatrixTransform(n, Dn)\n",
    "\n",
    "x_real = np.array([1.0, 2.0, 3.0, 4.0])\n",
    "\n",
    "b = C @ x_real\n",
    "\n",
    "x0 = np.array([10.0, 10.0, 10.0, 10.0])\n",
    "\n",
    "\n",
    "x = x0.copy()\n",
    "for i in range(7):\n",
    "    x = OneStepJacobi(n, Dn, b, x)\n",
    "    print(f\"Iteración {i+1}: {x}\")\n",
    "\n",
    "\n",
    "print(\"\\nSolución real:\", x_real)\n",
    "print(\"Aproximación final:\", x)\n",
    "print(\"Error absoluto:\", np.abs(x - x_real))"
   ]
  },
  {
   "cell_type": "markdown",
   "id": "fc7df43a",
   "metadata": {},
   "source": [
    "---"
   ]
  },
  {
   "cell_type": "markdown",
   "id": "942b7eea",
   "metadata": {},
   "source": [
    "## **Ejercicio 2.12 ¿Es o no es tridiagonal?**"
   ]
  },
  {
   "cell_type": "markdown",
   "id": "888818cd",
   "metadata": {},
   "source": [
    "#### **Parámetros Generales**"
   ]
  },
  {
   "cell_type": "code",
   "execution_count": 2,
   "id": "7fc00f04",
   "metadata": {},
   "outputs": [],
   "source": [
    "a = 10\n",
    "b = -4\n",
    "c = 1/2\n",
    "n = 3"
   ]
  },
  {
   "cell_type": "markdown",
   "id": "eeeb4b69",
   "metadata": {},
   "source": []
  },
  {
   "cell_type": "code",
   "execution_count": null,
   "id": "0ce74235",
   "metadata": {},
   "outputs": [
    {
     "name": "stdout",
     "output_type": "stream",
     "text": [
      "Matriz A:\n",
      "[[ 0.  -4.  10. ]\n",
      " [-4.  10.   0.5]\n",
      " [10.   0.5  0. ]]\n"
     ]
    }
   ],
   "source": [
    "def build_matrix_A(a,b,c,n):\n",
    "    \"\"\"\n",
    "    Construye la matriz A de un sistema NO tridiagonal de tamaño n x n.\n",
    "    \n",
    "    Input:\n",
    "        a (float): Valor en la diagonal secundario\n",
    "        b (float): Valor en la diagonal secundaria superior.\n",
    "        c (float): Valor en la diagonal secundaria inferior.\n",
    "        n (int): Tamaño de la matriz.\n",
    "    \n",
    "    Output:\n",
    "        A (ndarray): Matriz NO tridiagonal de tamaño n x n.\n",
    "    \"\"\"\n",
    "    # ACA VA SU CÓDIGO\n",
    "    A = np.zeros((n, n))\n",
    "\n",
    "    np.fill_diagonal(A[1:, :-1], b)\n",
    "    np.fill_diagonal(A, a)\n",
    "    np.fill_diagonal(A[:-1, 1:], c)\n",
    "    \n",
    "    A_invertida = A[::-1]\n",
    "    A = A_invertida\n",
    "    return A\n",
    "    # ----------------\n",
    "    return A\n",
    "\n",
    "A = build_matrix_A(a, b, c, n)\n",
    "print(\"Matriz A:\")\n",
    "print(A)"
   ]
  },
  {
   "cell_type": "code",
   "execution_count": 8,
   "id": "bd40200c",
   "metadata": {},
   "outputs": [
    {
     "name": "stdout",
     "output_type": "stream",
     "text": [
      "Vector b:\n",
      "[1.         0.5        0.33333333]\n"
     ]
    }
   ],
   "source": [
    "def build_vector_b(n):\n",
    "    \"\"\"\n",
    "    Construye el vector b de la ecuacion Ax=b\n",
    "    Donde los elementos van desde son = 1/i hasta 1/n\n",
    "    con i = 1, 2, ..., n.\n",
    "    \n",
    "    Input:\n",
    "        n (int): Tamaño del vector.\n",
    "    \n",
    "    Output:\n",
    "        b (ndarray): Vector de tamaño n con los elementos 1/i.\n",
    "    \"\"\"\n",
    "    # ACA VA SU CÓDIGO\n",
    "    b = 1 / np.arange(1, n + 1)\n",
    "    return b\n",
    "\n",
    "    # ----------------\n",
    "\n",
    "vector_b = build_vector_b(n)\n",
    "print(\"Vector b:\")\n",
    "print(vector_b)"
   ]
  },
  {
   "cell_type": "code",
   "execution_count": 20,
   "id": "9b74de14",
   "metadata": {},
   "outputs": [],
   "source": [
    "def solve_system(A, vector_b,n):\n",
    "    \"\"\"\n",
    "    Resuelve el sistema Ax = b utilizando el método desarrollado.\n",
    "    En la parte teórica del problema.\n",
    "    Input:\n",
    "        A (ndarray): Matriz del sistema.\n",
    "        b (ndarray): Vector del lado derecho.\n",
    "        n (int): tamaño del vector b y de la matriz A.\n",
    "    \n",
    "    Output:\n",
    "        x (ndarray): Solución del sistema.\n",
    "    \"\"\"\n",
    "\n",
    "   # ACA VA SU CÓDIGO\n",
    "    \n",
    "    A = A.copy()\n",
    "    A = A[::-1]\n",
    "    vector_b = vector_b.copy()\n",
    "    vector_b = vector_b[::-1]\n",
    "\n",
    "    A_diag_inv = np.diag(1 / np.diag(A))\n",
    "    A_low = np.tril(A, k=-1)\n",
    "    A_up = np.triu(A, k=1)\n",
    "    \n",
    "    num_iterations = 5\n",
    "\n",
    "    xi = np.ones(n)\n",
    "    for _ in range(num_iterations): \n",
    "        xi = A_diag_inv @ (vector_b - (A_low + A_up) @ xi)\n",
    "        Ax = A @ xi\n",
    "        error = np.linalg.norm(Ax-b)\n",
    "        print(\"x\", xi)\n",
    "        print(\"error:\", error)\n",
    "\n",
    "    x= xi    \n",
    "    return x\n",
    "\n",
    "\n",
    "    # ---------------- "
   ]
  },
  {
   "cell_type": "code",
   "execution_count": 21,
   "id": "c2afba90",
   "metadata": {},
   "outputs": [
    {
     "name": "stdout",
     "output_type": "stream",
     "text": [
      "Resolviendo el sistema Ax = b...\n",
      "[[ 0.  -4.  10. ]\n",
      " [-4.  10.   0.5]\n",
      " [10.   0.5  0. ]] x= [1.         0.5        0.33333333]\n",
      "Solución del sistema:\n",
      "x [-0.01666667  0.4         0.5       ]\n",
      "error: 11.840385222712234\n",
      "x [0.01333333 0.01833333 0.26      ]\n",
      "error: 8.826397001482416\n",
      "x [0.03241667 0.04233333 0.10733333]\n",
      "error: 7.863233742480818\n",
      "x [0.03121667 0.0576     0.11693333]\n",
      "error: 7.973302090866884\n",
      "x [0.03045333 0.05664    0.12304   ]\n",
      "error: 8.007311037118239\n",
      "x: [0.03045333 0.05664    0.12304   ]\n",
      "Comprobación Ax = b:\n",
      "Ax: [1.00384    0.50610667 0.33285333]\n",
      "b: [1.         0.5        0.33333333]\n"
     ]
    }
   ],
   "source": [
    "\n",
    "print(\"Resolviendo el sistema Ax = b...\")\n",
    "print(A,\"x=\", vector_b)\n",
    "\n",
    "print(\"Solución del sistema:\")\n",
    "x_solution = solve_system(A, vector_b, n)\n",
    "print(\"x:\",x_solution)\n",
    "\n",
    "print(\"Comprobación Ax = b:\")\n",
    "Ax = A @ x_solution\n",
    "print(\"Ax:\", Ax)\n",
    "print(\"b:\", vector_b)"
   ]
  },
  {
   "cell_type": "code",
   "execution_count": null,
   "id": "004d22a0",
   "metadata": {},
   "outputs": [],
   "source": []
  }
 ],
 "metadata": {
  "kernelspec": {
   "display_name": "base",
   "language": "python",
   "name": "python3"
  },
  "language_info": {
   "codemirror_mode": {
    "name": "ipython",
    "version": 3
   },
   "file_extension": ".py",
   "mimetype": "text/x-python",
   "name": "python",
   "nbconvert_exporter": "python",
   "pygments_lexer": "ipython3",
   "version": "3.12.3"
  }
 },
 "nbformat": 4,
 "nbformat_minor": 5
}
