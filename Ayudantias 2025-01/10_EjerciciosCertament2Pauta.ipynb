{
 "cells": [
  {
   "cell_type": "markdown",
   "id": "3e6b7e09",
   "metadata": {},
   "source": [
    "# **Ayudantía 10 - Ejercicios C2**\n",
    "## Etienne Rojas\n",
    "\n",
    "Ante cualquier duda o posible corrección, por favor mandar un correo a `etienne.rojas@sansano.usm.cl` \n",
    "\n",
    "\n",
    "---"
   ]
  },
  {
   "cell_type": "code",
   "execution_count": 4,
   "id": "1de6fa8d",
   "metadata": {},
   "outputs": [],
   "source": [
    "import numpy as np\n",
    "import matplotlib.pyplot as plt"
   ]
  },
  {
   "cell_type": "markdown",
   "id": "7b38f49f",
   "metadata": {},
   "source": [
    "# **Ejercicio 2.4 Ajedrez**"
   ]
  },
  {
   "cell_type": "markdown",
   "id": "0a526301",
   "metadata": {},
   "source": [
    "## Función Auxiliar"
   ]
  },
  {
   "cell_type": "code",
   "execution_count": null,
   "id": "3e1e3ff1",
   "metadata": {},
   "outputs": [
    {
     "name": "stdout",
     "output_type": "stream",
     "text": [
      "[[ 1.  0.  2.  0.  3.  4.]\n",
      " [ 0.  5.  0.  6.  7.  8.]\n",
      " [ 9.  0. 10.  0.  1.  2.]\n",
      " [ 0.  3.  0.  4.  5.  6.]\n",
      " [ 7.  0.  8.  0.  9. 10.]\n",
      " [ 0.  1.  0.  2.  3.  4.]]\n"
     ]
    }
   ],
   "source": [
    "def ChessMatrixTransform(n, Dn):\n",
    "    '''\n",
    "    Transforma la matriz compacta D^{(n)} [2N X N+1] en la matriz C^{(n)} [2N X 2N]\n",
    "    La matriz C^{(n)} es una matriz de ajedrez que contiene los elementos de D^{(n)}\n",
    "    En posiciones espaciadas por elementos nulos a excepcion de las ultimas 2 columnas\n",
    "    que son iguales a las ultimas 2 columnas de D^{(n)}.\n",
    "\n",
    "    Args:\n",
    "        n (int): Índice de la matriz C^{(n)} y D^{(n)}.\n",
    "        Dn (ndarray): Matriz compacta de tamaño [2N X N+1] que almacena los no nulos de C^{(n)}.\n",
    "    \n",
    "    Returns:\n",
    "        C (ndarray): Matriz de ajedrez de tamaño [2N X 2N] que contiene los elementos de D^{(n)} en forma de ajedrez.\n",
    "    '''\n",
    "    # PASO 1: CALCULAMOS EL TAMAÑO DE LA MATRIZ C^{(n)}\n",
    "    filas = 2 * n\n",
    "    columnas = 2 * n\n",
    "\n",
    "    # PASO 2: INICIALIZAMOS LA MATRIZ C^{(n)} CON CEROS\n",
    "    C = np.zeros((filas, columnas))\n",
    "\n",
    "    # PASO 3: SABEMOS QUE LAS ULTIMAS 2 COLUMNAS DE C^{(n)} = D^{(n)}\n",
    "    C[:, -2:] = Dn[:, -2:]\n",
    "\n",
    "    # PASO 4: GENERAMOS LOS ÍNDICES PARA LAS FILAS Y COLUMNAS DE LA MATRIZ DE AJEDREZ\n",
    "    indices_pares_fila = np.arange(filas)[::2]   \n",
    "    indices_impares_fila = np.arange(filas)[1::2]\n",
    "    columnas_ajedrez_pares = np.arange(0, 2 * (n - 1), 2)\n",
    "    columnas_ajedrez_impares = np.arange(1, 2 * (n - 1), 2)\n",
    "\n",
    "    # PASO 5: ASIGNAMOS LOS VALORES DE D^{(n)} A LAS POSICIONES CORRESPONDIENTES EN C^{(n)}\n",
    "    for i in indices_pares_fila:\n",
    "        C[i, columnas_ajedrez_pares] = Dn[i, :n-1]\n",
    "\n",
    "    for i in indices_impares_fila:\n",
    "        C[i, columnas_ajedrez_impares] = Dn[i, :n-1]\n",
    "\n",
    "    return C\n",
    "\n",
    "n = 3\n",
    "Dn = np.array([\n",
    "    [1, 2, 3, 4],\n",
    "    [5, 6, 7, 8],\n",
    "    [9, 10, 1, 2],\n",
    "    [3, 4, 5, 6],\n",
    "    [7, 8, 9, 10],\n",
    "    [1, 2, 3, 4],\n",
    "])\n",
    "C = ChessMatrixTransform(n, Dn)\n",
    "print(C)"
   ]
  },
  {
   "cell_type": "code",
   "execution_count": 7,
   "id": "d92641c1",
   "metadata": {},
   "outputs": [],
   "source": [
    "def OneStepJacobi(n, Dn, b, x0):\n",
    "    '''\n",
    "    Realiza una iteración del método de Jacobi para la matriz C^{(n)} almacenada en Dn.\n",
    "    \n",
    "    Args:\n",
    "        n (int): Índice de la matriz C^{(n)} y D^{(n)}.\n",
    "        Dn (ndarray): Matriz compacta de tamaño 2n x (n+1) que almacena los no nulos de C^{(n)}.\n",
    "        b (ndarray): Vector del lado derecho de tamaño 2n.\n",
    "        x0 (ndarray): Vector inicial de tamaño 2n.\n",
    "    \n",
    "    Returns:\n",
    "        x1 (ndarray): Nuevo vector después de una iteración de Jacobi.\n",
    "    '''\n",
    "    # PASO 1: reconstruir la matriz C\n",
    "    C = ChessMatrixTransform(n, Dn)\n",
    "    \n",
    "    # PASO 2: Seprar C en L,D^{-1},U \n",
    "    C_diag_inv = np.diag(1 / np.diag(C))\n",
    "    C_low = np.tril(C, k=-1)\n",
    "    C_up = np.triu(C, k=1)\n",
    "    \n",
    "    \n",
    "    # PASO 4: aplicar Jacobi\n",
    "    x1 = C_diag_inv @ (b - (C_low + C_up) @ x0)\n",
    "    \n",
    "    return x1"
   ]
  },
  {
   "cell_type": "markdown",
   "id": "d1acb1fa",
   "metadata": {},
   "source": [
    "## **Testear el Código**"
   ]
  },
  {
   "cell_type": "code",
   "execution_count": 8,
   "id": "eb24b156",
   "metadata": {},
   "outputs": [
    {
     "name": "stdout",
     "output_type": "stream",
     "text": [
      "Iteración 1: [0.74 1.74 2.7  3.7 ]\n",
      "Iteración 2: [1.012  2.012  3.0112 4.0112]\n",
      "Iteración 3: [0.999552 1.999552 2.999536 3.999536]\n",
      "Iteración 4: [1.00001856 2.00001856 3.00001824 4.00001824]\n",
      "Iteración 5: [0.99999927 1.99999927 2.99999926 3.99999926]\n",
      "Iteración 6: [1.00000003 2.00000003 3.00000003 4.00000003]\n",
      "Iteración 7: [1. 2. 3. 4.]\n",
      "\n",
      "Solución real: [1. 2. 3. 4.]\n",
      "Aproximación final: [1. 2. 3. 4.]\n",
      "Error absoluto: [1.17247989e-09 1.17247989e-09 1.17503962e-09 1.17503962e-09]\n"
     ]
    }
   ],
   "source": [
    "n = 2\n",
    "Dn = np.array([\n",
    "    [50.0, 1.0, 1.0],\n",
    "    [50.0, 1.0, 1.0],\n",
    "    [1.0, 50.0, 1.0],\n",
    "    [1.0, 1.0, 50.0],\n",
    "])\n",
    "\n",
    "C = ChessMatrixTransform(n, Dn)\n",
    "\n",
    "x_real = np.array([1.0, 2.0, 3.0, 4.0])\n",
    "\n",
    "b = C @ x_real\n",
    "\n",
    "x0 = np.array([10.0, 10.0, 10.0, 10.0])\n",
    "\n",
    "\n",
    "x = x0.copy()\n",
    "for i in range(7):\n",
    "    x = OneStepJacobi(n, Dn, b, x)\n",
    "    print(f\"Iteración {i+1}: {x}\")\n",
    "\n",
    "\n",
    "print(\"\\nSolución real:\", x_real)\n",
    "print(\"Aproximación final:\", x)\n",
    "print(\"Error absoluto:\", np.abs(x - x_real))"
   ]
  },
  {
   "cell_type": "markdown",
   "id": "fc7df43a",
   "metadata": {},
   "source": [
    "---"
   ]
  },
  {
   "cell_type": "markdown",
   "id": "942b7eea",
   "metadata": {},
   "source": [
    "## **Ejercicio 2.12 ¿Es o no es tridiagonal?**"
   ]
  },
  {
   "cell_type": "markdown",
   "id": "888818cd",
   "metadata": {},
   "source": [
    "#### **Parámetros Generales**"
   ]
  },
  {
   "cell_type": "code",
   "execution_count": 57,
   "id": "7fc00f04",
   "metadata": {},
   "outputs": [],
   "source": [
    "a = 10\n",
    "b = -4\n",
    "c = 1/2\n",
    "n = 3"
   ]
  },
  {
   "cell_type": "markdown",
   "id": "eeeb4b69",
   "metadata": {},
   "source": []
  },
  {
   "cell_type": "code",
   "execution_count": 71,
   "id": "0ce74235",
   "metadata": {},
   "outputs": [
    {
     "name": "stdout",
     "output_type": "stream",
     "text": [
      "Matriz A:\n",
      "[[ 0.  -4.  10. ]\n",
      " [-4.  10.   0.5]\n",
      " [10.   0.5  0. ]]\n"
     ]
    }
   ],
   "source": [
    "def build_matrix_A(a,b,c,n):\n",
    "    \"\"\"\n",
    "    Construye la matriz A de un sistema tridiagonal de tamaño n x n.\n",
    "    \n",
    "    Input:\n",
    "        a (float): Valor en la diagonal secundario\n",
    "        b (float): Valor en la diagonal secundaria superior.\n",
    "        c (float): Valor en la diagonal secundaria inferior.\n",
    "        n (int): Tamaño de la matriz.\n",
    "    \n",
    "    Output:\n",
    "        A (ndarray): Matriz tridiagonal de tamaño n x n.\n",
    "    \"\"\"\n",
    "    A = np.zeros((n, n))\n",
    "\n",
    "    np.fill_diagonal(A[1:, :-1], b)\n",
    "    np.fill_diagonal(A, a)\n",
    "    np.fill_diagonal(A[:-1, 1:], c)\n",
    "    \n",
    "    A_invertida = A[::-1]\n",
    "    A = A_invertida\n",
    "    return A\n",
    "\n",
    "A = build_matrix_A(a, b, c, n)\n",
    "print(\"Matriz A:\")\n",
    "print(A)"
   ]
  },
  {
   "cell_type": "code",
   "execution_count": 61,
   "id": "bd40200c",
   "metadata": {},
   "outputs": [
    {
     "name": "stdout",
     "output_type": "stream",
     "text": [
      "Vector b:\n",
      "[1.         0.5        0.33333333]\n"
     ]
    }
   ],
   "source": [
    "def build_vector_b(n):\n",
    "    \"\"\"\n",
    "    Construye el vector b de la ecuacion Ax=b\n",
    "    Donde los elementos van desde son = 1/i hasta 1/n\n",
    "    con i = 1, 2, ..., n.\n",
    "    \n",
    "    Input:\n",
    "        n (int): Tamaño del vector.\n",
    "    \n",
    "    Output:\n",
    "        b (ndarray): Vector de tamaño n con los elementos 1/i.\n",
    "    \"\"\"\n",
    "    b = (1) / (np.arange(1, n + 1))\n",
    "    return b\n",
    "\n",
    "vector_b = build_vector_b(n)\n",
    "print(\"Vector b:\")\n",
    "print(vector_b)"
   ]
  },
  {
   "cell_type": "code",
   "execution_count": null,
   "id": "9b74de14",
   "metadata": {},
   "outputs": [
    {
     "name": "stdout",
     "output_type": "stream",
     "text": [
      "Resolviendo el sistema Ax = b...\n",
      "[[ 0.  -4.  10. ]\n",
      " [-4.  10.   0.5]\n",
      " [10.   0.5  0. ]] x= [1.         0.5        0.33333333]\n",
      "Solución del sistema:\n",
      "Diagonal principal: [10. 10. 10.]\n",
      "Diagonal superior: [0.5 0.5]\n",
      "Diagonal inferior: [-4. -4.]\n",
      "x: [0.03052885 0.05608974 0.1224359 ]\n",
      "Comprobación Ax = b:\n",
      "Ax: [1.         0.5        0.33333333]\n",
      "b: [1.         0.5        0.33333333]\n"
     ]
    }
   ],
   "source": [
    "def solve_system(A, vector_b,n):\n",
    "    \"\"\"\n",
    "    Resuelve el sistema Ax = b utilizando el método desarrollado.\n",
    "    En la parte teórica del problema.\n",
    "    Input:\n",
    "        A (ndarray): Matriz del sistema.\n",
    "        b (ndarray): Vector del lado derecho.\n",
    "        n (int): tamaño del vector b y de la matriz A.\n",
    "    \n",
    "    Output:\n",
    "        x (ndarray): Solución del sistema.\n",
    "    \"\"\"\n",
    "\n",
    "    A = A.copy()\n",
    "    A = A[::-1]\n",
    "    vector_b = vector_b.copy()\n",
    "    vector_b = vector_b[::-1]\n",
    "\n",
    "    # PASO 1: Extraer diagonales de la matriz tridiagonal\n",
    "    main_diag = np.diagonal(A).copy()\n",
    "    upper_diag = np.diagonal(A, offset=1).copy()\n",
    "    lower_diag = np.diagonal(A, offset=-1).copy()\n",
    "    # print(\"Diagonal principal:\", main_diag)\n",
    "    # print(\"Diagonal superior:\", upper_diag)\n",
    "    # print(\"Diagonal inferior:\", lower_diag)\n",
    "\n",
    "    # PASO 2: OPERACIONES DE ELIMINACIÓN\n",
    "    elimination_factors = np.zeros(n-1)\n",
    "    new_b_vector = np.zeros(n)\n",
    "    \n",
    "    # Inicializar primera fila 1\n",
    "    elimination_factors[0] = upper_diag[0] / main_diag[0]  # c / a\n",
    "    new_b_vector[0] = vector_b[0] / main_diag[0]           # b[0] / a\n",
    "    \n",
    "    # Eliminación para filas 2 a n-1\n",
    "    for i in range(1, n-1):\n",
    "        denom = main_diag[i] - lower_diag[i-1] * elimination_factors[i-1]\n",
    "        elimination_factors[i] = upper_diag[i] / denom\n",
    "        new_b_vector[i] = (vector_b[i] - lower_diag[i-1] * new_b_vector[i-1]) / denom\n",
    "    \n",
    "    # Eliminación ultima fila n\n",
    "    denom = main_diag[-1] - lower_diag[-1] * elimination_factors[-1]\n",
    "    new_b_vector[-1] = (vector_b[-1] - lower_diag[-1] * new_b_vector[-2]) / denom\n",
    "    \n",
    "    # PASO 3: Sustitución hacia atrás\n",
    "    x = np.zeros(n)\n",
    "    x[-1] = new_b_vector[-1]\n",
    "    for i in range(n-2, -1, -1):\n",
    "        x[i] = new_b_vector[i] - elimination_factors[i] * x[i+1]\n",
    "    \n",
    "    return x\n",
    "\n",
    "\n",
    "print(\"Resolviendo el sistema Ax = b...\")\n",
    "print(A,\"x=\", vector_b)\n",
    "\n",
    "print(\"Solución del sistema:\")\n",
    "x_solution = solve_system(A, vector_b, n)\n",
    "print(\"x:\",x_solution)\n",
    "\n",
    "print(\"Comprobación Ax = b:\")\n",
    "Ax = A @ x_solution\n",
    "print(\"Ax:\", Ax)\n",
    "print(\"b:\", vector_b)\n",
    "\n"
   ]
  }
 ],
 "metadata": {
  "kernelspec": {
   "display_name": "base",
   "language": "python",
   "name": "python3"
  },
  "language_info": {
   "codemirror_mode": {
    "name": "ipython",
    "version": 3
   },
   "file_extension": ".py",
   "mimetype": "text/x-python",
   "name": "python",
   "nbconvert_exporter": "python",
   "pygments_lexer": "ipython3",
   "version": "3.12.3"
  }
 },
 "nbformat": 4,
 "nbformat_minor": 5
}
