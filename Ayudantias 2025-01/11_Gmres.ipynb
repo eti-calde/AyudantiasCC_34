{
 "cells": [
  {
   "cell_type": "markdown",
   "id": "8b330151",
   "metadata": {},
   "source": [
    "# **GMRes: Método del Residuo Mínimo Generalizado**"
   ]
  },
  {
   "cell_type": "markdown",
   "id": "10a6d52f",
   "metadata": {},
   "source": [
    "---"
   ]
  },
  {
   "cell_type": "markdown",
   "id": "2681fa46",
   "metadata": {},
   "source": [
    "# **Seccion 1: Discutamos en la pizarra!**\n",
    "- Teorema de Cayley Hamilton.\n",
    "- Aplicación del teorema para llegar a una nueva definición de $A^{-1}$.\n",
    "- Subespacio de Krylov.\n",
    "- Gmres usando el subespacio de krylov"
   ]
  },
  {
   "cell_type": "markdown",
   "id": "f994bbbe",
   "metadata": {},
   "source": [
    "---"
   ]
  },
  {
   "cell_type": "markdown",
   "id": "167fd512",
   "metadata": {},
   "source": [
    "# **Sección 2: Krylov genera una base mal condicionada**"
   ]
  },
  {
   "cell_type": "markdown",
   "id": "4fd554f4",
   "metadata": {},
   "source": [
    "Definmaos una matriz random de $n \\times n$"
   ]
  },
  {
   "cell_type": "code",
   "execution_count": 1,
   "id": "17c12588",
   "metadata": {},
   "outputs": [],
   "source": [
    "import numpy as np\n",
    "import matplotlib.pyplot as plt\n",
    "import ipywidgets as widgets\n",
    "from IPython.display import display"
   ]
  },
  {
   "cell_type": "code",
   "execution_count": 7,
   "id": "ad29106e",
   "metadata": {},
   "outputs": [
    {
     "data": {
      "application/vnd.jupyter.widget-view+json": {
       "model_id": "624d81652ced49979a481663e5923297",
       "version_major": 2,
       "version_minor": 0
      },
      "text/plain": [
       "interactive(children=(IntSlider(value=1, description='k:', max=30, min=1), Output()), _dom_classes=('widget-in…"
      ]
     },
     "metadata": {},
     "output_type": "display_data"
    },
    {
     "data": {
      "text/plain": [
       "<function __main__.plot_krylov_vectors(k)>"
      ]
     },
     "execution_count": 7,
     "metadata": {},
     "output_type": "execute_result"
    }
   ],
   "source": [
    "N = 2\n",
    "\n",
    "# A = np.array([[0.9, 0.4], \n",
    "            #   [-0.4, 0.9]])\n",
    "# b = np.array([1, 0])\n",
    "\n",
    "np.random.seed(7)\n",
    "A = np.random.rand(N, N)\n",
    "b = np.random.rand(N, 1)  \n",
    "\n",
    "def plot_krylov_vectors(k):\n",
    "    plt.figure(figsize=(10, 8))\n",
    "    origin = np.zeros(2)\n",
    "    \n",
    "    vecs = np.zeros((2, k+1))\n",
    "    vecs[:, 0] = b.flatten()\n",
    "    \n",
    "    for i in range(1, k+1):\n",
    "        vecs[:, i] = A @ vecs[:, i-1] \n",
    "    \n",
    "\n",
    "    colors = plt.cm.magma(np.linspace(0, 1, k+1))\n",
    "    labels = np.array([r'$b$'] + [r'$A^{' + str(i) + r'}b$' for i in range(1, k+1)])\n",
    "    \n",
    "    for i in range(k+1):\n",
    "        alpha = 0.7 if i < k else 1.0\n",
    "        plt.quiver(origin[0], origin[1], vecs[0, i], vecs[1, i],\n",
    "                   scale=1, scale_units='xy', angles='xy',\n",
    "                   color=colors[i], alpha=alpha, width=0.015,\n",
    "                   label=labels[i])\n",
    "    \n",
    "    plt.axhline(0, color='gray', lw=0.5)\n",
    "    plt.axvline(0, color='gray', lw=0.5)\n",
    "    \n",
    "    max_val = np.max(np.abs(vecs)) * 1.2\n",
    "    min_val = -max_val\n",
    "    plt.xlim(min_val, max_val)\n",
    "    plt.ylim(min_val, max_val)\n",
    "    \n",
    "    plt.gca().set_aspect('equal')\n",
    "    plt.grid(alpha=0.3)\n",
    "    plt.title(f'Base de Krylov: $k={k}$', fontsize=14)\n",
    "    \n",
    "\n",
    "    cond_num = np.linalg.cond(vecs)\n",
    "    \n",
    "    plt.figtext(0.5, 0.01, f'κ(Q) = {cond_num:.3e}', \n",
    "                ha='center', fontsize=12, bbox=dict(facecolor='white', alpha=0.8))\n",
    "    \n",
    "    plt.legend(loc='upper right', bbox_to_anchor=(1.15, 1))\n",
    "    plt.tight_layout()\n",
    "    plt.show()\n",
    "\n",
    "k_slider = widgets.IntSlider(value=1, min=1, max=30, step=1, description='k:')\n",
    "widgets.interact(plot_krylov_vectors, k=k_slider)"
   ]
  },
  {
   "cell_type": "markdown",
   "id": "78ec23f8",
   "metadata": {},
   "source": [
    "## **Sección 2.1: Breve recordatorio del númerod de condición de una matriz**"
   ]
  },
  {
   "cell_type": "markdown",
   "id": "fda5c372",
   "metadata": {},
   "source": [
    "Defición mátematica del número de condición:"
   ]
  },
  {
   "cell_type": "markdown",
   "id": "a03efb7a",
   "metadata": {},
   "source": [
    "$$\\kappa_2(A) = \\|A\\|_2 \\cdot \\|A^{-1}\\|_2$$"
   ]
  },
  {
   "cell_type": "markdown",
   "id": "776bdbef",
   "metadata": {},
   "source": [
    "$$\n",
    "\\kappa_2(A) = \\frac{\\sigma_{\\text{max}}(A)}{\\sigma_{\\text{min}}(A)}\n",
    "$$"
   ]
  },
  {
   "cell_type": "markdown",
   "id": "3568f28e",
   "metadata": {},
   "source": [
    "El significado practico se puede descomponer de la siguiente manera:\n",
    "- $\\kappa \\approx 1$: La matriz esta bien condicionada.\n",
    "- $\\kappa >> 1$: La matriz esta mal condicionada.\n",
    "- $\\kappa = \\infty$: La matriz es singular."
   ]
  },
  {
   "cell_type": "code",
   "execution_count": 3,
   "id": "fe1f656b",
   "metadata": {},
   "outputs": [
    {
     "name": "stdout",
     "output_type": "stream",
     "text": [
      "Número de condición de A: 4.00e+04\n",
      "Sistema original: Ax = b\n",
      "A:\n",
      "[[1.     1.0001]\n",
      " [1.     1.    ]]\n",
      "b:\n",
      "[2 2]\n",
      "Solución exacta: [ 2. -0.]\n",
      "\n",
      "Sistema perturbado: Ax = b + perturbación\n",
      "A:\n",
      "[[1.     1.0001]\n",
      " [1.     1.    ]]\n",
      "b + perturbación:\n",
      "[2.001 2.   ]\n",
      "Solución perturbada: [-8. 10.]\n",
      "\n",
      "Cálculo del error relativo:\n",
      "Error relativo: 7.07\n"
     ]
    }
   ],
   "source": [
    "A = np.array([[1, 1.0001], [1, 1]])\n",
    "cond_num = np.linalg.cond(A)\n",
    "print(f\"Número de condición de A: {cond_num:.2e}\")\n",
    "b = np.array([2, 2])\n",
    "\n",
    "# Sistema original\n",
    "x_exact = np.linalg.solve(A, b)\n",
    "print(f\"Sistema original: Ax = b\\nA:\\n{A}\\nb:\\n{b}\")\n",
    "print(f\"Solución exacta: {x_exact}\")\n",
    "\n",
    "# Sistema perturbado\n",
    "b_pert = b + np.array([0.001, 0])\n",
    "x_pert = np.linalg.solve(A, b_pert)\n",
    "print(f\"\\nSistema perturbado: Ax = b + perturbación\\nA:\\n{A}\\nb + perturbación:\\n{b_pert}\")\n",
    "print(f\"Solución perturbada: {x_pert}\")\n",
    "# Cálculo del error relativo\n",
    "print(\"\\nCálculo del error relativo:\")\n",
    "error_rel = np.linalg.norm(x_pert - x_exact) / np.linalg.norm(x_exact)\n",
    "print(f\"Error relativo: {error_rel:.2f}\")"
   ]
  },
  {
   "cell_type": "markdown",
   "id": "e5e799ab",
   "metadata": {},
   "source": [
    "Un número de condición grande implica que:\n",
    "- Los vectores de la matriz son casi linealmente depedientes.\n",
    "- Tenemos perdida en la presición de los cálculos.\n",
    "- Los errores se amplifican.\n",
    "\n",
    "De aquí surge la necesidad de hacer alguna transformación como esta:\n",
    "$$\n",
    "\\mathbb{K}_k = \\textit{span}\\{b, Ab, A^2b, ... A^{k-1}b\\} = \\textit{span}\\{q_1, q_2, ..., q_k\\} \n",
    "$$\n",
    "\n",
    "- $q_i$ es un vector ortonormal, norma 1 y ortogonal al resto\n",
    "\n",
    "Para lograr la transformación aplicamos ortonormalización de Grand Schmidt modificada (Paso de Arnoldi)"
   ]
  },
  {
   "cell_type": "markdown",
   "id": "c933cfb6",
   "metadata": {},
   "source": [
    "---"
   ]
  },
  {
   "cell_type": "markdown",
   "id": "f2de301a",
   "metadata": {},
   "source": [
    "# **Seccion 3: Discutamos en la pizarra!**\n",
    "- Paso de Arnoldi"
   ]
  },
  {
   "cell_type": "markdown",
   "id": "35605a82",
   "metadata": {},
   "source": []
  },
  {
   "cell_type": "markdown",
   "id": "aa129b36",
   "metadata": {},
   "source": [
    "# **Sección 4: Código GMRes**"
   ]
  },
  {
   "cell_type": "code",
   "execution_count": 8,
   "id": "8a291084",
   "metadata": {},
   "outputs": [],
   "source": [
    "A = np.array([\n",
    "    [1, 1, 0, ],\n",
    "    [0, 1, 0, ],\n",
    "    [1, 1, 1, ]\n",
    "], dtype=float)\n",
    "\n",
    "b = np.array([1, 0, 0], dtype=float)\n",
    "# linea 1\n",
    "x0 = np.zeros(3)\n",
    "max_iter = 3"
   ]
  },
  {
   "cell_type": "code",
   "execution_count": 9,
   "id": "0ea37271",
   "metadata": {},
   "outputs": [
    {
     "name": "stdout",
     "output_type": "stream",
     "text": [
      "==================================================\n",
      "INICIALIZACIÓN\n",
      "x0: [0. 0. 0.]\n",
      "r0 = b - A*x0: [1. 0. 0.]\n",
      "||r0|| = 1.0000\n",
      "q1 = r0/||r0||: [1. 0. 0.]\n",
      "\n",
      "==================================================\n",
      "ITERACIÓN k = 1\n",
      "------------------------------\n",
      "y = A * q_1:\n",
      "[1. 0. 1.]\n",
      "  j=1: h_11 = 1.0000, y_actualizado = [0. 0. 1.]\n",
      "h_21 = ||y|| = 1.0000\n",
      "q_2 = y / h_21 = [0. 0. 1.]\n",
      "\n",
      "Resultados parciales:\n",
      "Matriz H_1:\n",
      "[[1.]\n",
      " [1.]]\n",
      "Vector c_k: [0.5]\n",
      "Solución x_1: [0.5 0.  0. ]\n",
      "Residuo: 0.7071\n",
      "\n",
      "==================================================\n",
      "ITERACIÓN k = 2\n",
      "------------------------------\n",
      "y = A * q_2:\n",
      "[0. 0. 1.]\n",
      "  j=1: h_12 = 0.0000, y_actualizado = [0. 0. 1.]\n",
      "  j=2: h_22 = 1.0000, y_actualizado = [0. 0. 0.]\n",
      "h_32 = ||y|| = 0.0000\n",
      "Breakdown detectado!\n",
      "==================================================\n",
      "RESULTADO FINAL\n",
      "Solución aproximada: [0.5 0.  0. ]\n",
      "Solución exacta: [ 1.  0. -1.]\n"
     ]
    }
   ],
   "source": [
    "\n",
    "Q = []\n",
    "H_list = []\n",
    "\n",
    "# Linea 2: r0 = b - Ax0\n",
    "r0 = b - A.dot(x0)\n",
    "# Linea 3: q1 = r0 / ||r0||\n",
    "q1 = r0 / np.linalg.norm(r0)\n",
    "Q = [q1]\n",
    "\n",
    "print(\"=\"*50)\n",
    "print(\"INICIALIZACIÓN\")\n",
    "print(f\"x0: {x0}\")\n",
    "print(f\"r0 = b - A*x0: {r0}\")\n",
    "print(f\"||r0|| = {np.linalg.norm(r0):.4f}\")\n",
    "print(f\"q1 = r0/||r0||: {q1}\\n\")\n",
    "\n",
    "H = np.zeros((max_iter+1, max_iter))\n",
    "\n",
    "# Linea 4: \"for k in range(1, m+1):\"\n",
    "for k in range(max_iter):\n",
    "    print(\"=\"*50)\n",
    "    print(f\"ITERACIÓN k = {k+1}\")\n",
    "    print(\"-\"*30)\n",
    "    \n",
    "    # Linea 5: y = A*q_k\n",
    "    y = A.dot(Q[k])\n",
    "    print(f\"y = A * q_{k+1}:\")\n",
    "    print(y)\n",
    "    \n",
    "    # Lineas 6-8: Ortogonalización de Gram-Schmidt\n",
    "    for j in range(k+1):\n",
    "        H[j,k] = np.dot(Q[j], y)\n",
    "        y = y - H[j,k] * Q[j]\n",
    "        print(f\"  j={j+1}: h_{j+1}{k+1} = {H[j,k]:.4f}, y_actualizado = {y}\")\n",
    "    \n",
    "    # Paso 9: h_{k+1,k} = ||y||_2\n",
    "    H[k+1,k] = np.linalg.norm(y)\n",
    "    print(f\"h_{k+2}{k+1} = ||y|| = {H[k+1,k]:.4f}\")\n",
    "    \n",
    "    # Paso 10-11: Nuevo vector q_{k+1}\n",
    "    if H[k+1,k] > 1e-10:\n",
    "        q_next = y / H[k+1,k]\n",
    "        Q.append(q_next)\n",
    "        print(f\"q_{k+2} = y / h_{k+2}{k+1} = {q_next}\")\n",
    "    else:\n",
    "        print(\"Breakdown detectado!\")\n",
    "        break\n",
    "    \n",
    "    # Paso 12: Resolver problema de mínimos cuadrados\n",
    "    H_k = H[:k+2, :k+1]\n",
    "    e1 = np.zeros(k+2)\n",
    "    e1[0] = np.linalg.norm(r0)\n",
    "    \n",
    "    # Resolver min ||βe1 - H_k c||\n",
    "    c_k, _, _, _ = np.linalg.lstsq(H_k, e1, rcond=None)\n",
    "    \n",
    "    # Paso 13: Calcular solución aproximada\n",
    "    Q_k = np.array(Q[:k+1]).T\n",
    "    x_k = Q_k.dot(c_k) + x0\n",
    "    \n",
    "    print(\"\\nResultados parciales:\")\n",
    "    print(f\"Matriz H_{k+1}:\")\n",
    "    print(H_k)\n",
    "    print(f\"Vector c_k: {c_k}\")\n",
    "    print(f\"Solución x_{k+1}: {x_k}\")\n",
    "    print(f\"Residuo: {np.linalg.norm(b - A.dot(x_k)):.4f}\\n\")\n",
    "    H_list.append(H_k.copy())\n",
    "\n",
    "print(\"=\"*50)\n",
    "print(\"RESULTADO FINAL\")\n",
    "print(f\"Solución aproximada: {x_k}\")\n",
    "print(f\"Solución exacta: {np.linalg.solve(A, b)}\")"
   ]
  },
  {
   "cell_type": "markdown",
   "id": "a296fe34",
   "metadata": {},
   "source": []
  }
 ],
 "metadata": {
  "kernelspec": {
   "display_name": "venv",
   "language": "python",
   "name": "python3"
  },
  "language_info": {
   "codemirror_mode": {
    "name": "ipython",
    "version": 3
   },
   "file_extension": ".py",
   "mimetype": "text/x-python",
   "name": "python",
   "nbconvert_exporter": "python",
   "pygments_lexer": "ipython3",
   "version": "3.12.3"
  }
 },
 "nbformat": 4,
 "nbformat_minor": 5
}
