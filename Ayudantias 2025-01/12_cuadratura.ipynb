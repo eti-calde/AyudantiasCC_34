{
 "cells": [
  {
   "cell_type": "markdown",
   "id": "f5038516",
   "metadata": {},
   "source": [
    "# **Ayudantía 12 - Ejercicios C2**\n",
    "## Etienne Rojas\n",
    "\n",
    "Ante cualquier duda o posible corrección, por favor mandar un correo a `etienne.rojas@sansano.usm.cl` \n",
    "\n",
    "\n",
    "---"
   ]
  },
  {
   "cell_type": "markdown",
   "id": "ef75c13b",
   "metadata": {},
   "source": [
    "# **Contexto**"
   ]
  },
  {
   "cell_type": "code",
   "execution_count": 2,
   "id": "fbeeca02",
   "metadata": {},
   "outputs": [],
   "source": [
    "import numpy as np\n",
    "import matplotlib.pyplot as plt\n",
    "from ipywidgets import interact, IntSlider, FloatSlider, Dropdown\n",
    "import ipywidgets as widgets"
   ]
  },
  {
   "cell_type": "code",
   "execution_count": null,
   "id": "456e04bf",
   "metadata": {},
   "outputs": [
    {
     "data": {
      "application/vnd.jupyter.widget-view+json": {
       "model_id": "dc3bcb78b5284603af37a9ae8bd51ad8",
       "version_major": 2,
       "version_minor": 0
      },
      "text/plain": [
       "interactive(children=(IntSlider(value=20, description='Puntos', min=10, step=10), Output()), _dom_classes=('wi…"
      ]
     },
     "metadata": {},
     "output_type": "display_data"
    },
    {
     "data": {
      "text/plain": [
       "<function __main__.plot_function(n)>"
      ]
     },
     "execution_count": 3,
     "metadata": {},
     "output_type": "execute_result"
    }
   ],
   "source": [
    "f = lambda x: np.sin(x) * np.cos(x)\n",
    "\n",
    "def plot_function(n):\n",
    "    x = np.linspace(0, 10, n)\n",
    "    y = f(x)\n",
    "\n",
    "    plt.figure(figsize=(8, 4))\n",
    "    plt.plot(x, y, '.')\n",
    "    # plt.plot(x, y, '.-')\n",
    "    plt.title(f'n = {n}')\n",
    "    plt.grid(True)\n",
    "    plt.xlabel('x')\n",
    "    plt.ylabel('f(x) = sin(x) * cos(x)')\n",
    "    plt.show()\n",
    "\n",
    "interact(plot_function, n=IntSlider(value=20, min=10, max=100, step=10, description='Puntos'))\n"
   ]
  },
  {
   "cell_type": "markdown",
   "id": "997a80cc",
   "metadata": {},
   "source": [
    "---"
   ]
  },
  {
   "cell_type": "markdown",
   "id": "22996b33",
   "metadata": {},
   "source": [
    "# **Código Estudiantes**"
   ]
  },
  {
   "cell_type": "code",
   "execution_count": 5,
   "id": "2da992dd",
   "metadata": {},
   "outputs": [],
   "source": [
    "def newton_1d(f,fp,x0, tol=1e-10, max_iter=100):\n",
    "    xi = x0 - f(x0)/fp(x0)\n",
    "\n",
    "    for i in range(max_iter):\n",
    "        x_next = xi - f(x0)/fp(x0)\n",
    "        if x_next-xi < tol:\n",
    "            return x_next\n",
    "        xi = x_next\n",
    "    return x_next"
   ]
  },
  {
   "cell_type": "code",
   "execution_count": 14,
   "id": "bc45780d",
   "metadata": {},
   "outputs": [],
   "source": [
    "def Newton_1D(f, fp, x0, tol=1e-6, max_iter=100):\n",
    "    \"\"\"\n",
    "    Newton's method for finding roots of a function in 1D.\n",
    "    \n",
    "    # Input:\n",
    "    - f (callable)     : Function for which to find the root\n",
    "    - fp (callable)    : Derivative of the function\n",
    "    - x0 (float)       : Initial guess\n",
    "    - tol (float)      : Tolerance for convergence\n",
    "    - max_iter (int)   : Maximum number of iterations\n",
    "    \n",
    "    # Output:\n",
    "    - x (float)        : Approximate root of the function\n",
    "    \"\"\"\n",
    "    x = x0\n",
    "    for i in range(max_iter):\n",
    "        fx = f(x)\n",
    "        if abs(fx) < tol:\n",
    "            break\n",
    "        fpx = fp(x)\n",
    "        if abs(fpx) < 1e-15:\n",
    "            break\n",
    "        x = x - fx / fpx\n",
    "    return x\n",
    "\n",
    "def find_next_point_STD(xi, g, gp, l, b, q):\n",
    "    \"\"\"\n",
    "    Find the next point in the sequence based on the given parameters.\n",
    "    \n",
    "    # Input:\n",
    "    - xi (float)       : Point x_i\n",
    "    - g (callable)     : Function g(x)\n",
    "    - gp (callable)    : Derivative of g(x)\n",
    "    - l (float)        : Arclength target\n",
    "    - b (float)        : Right limit of the interval of the domain of g()\n",
    "    - q (float)        : Number of poins for numerical integration\n",
    "    \n",
    "    # Output:\n",
    "    - x_next (float)   : Next point in the sequence\n",
    "    - g_next (float)   : Value of g at the next point\n",
    "    \"\"\"\n",
    "    # PASO 1: COMPUTAR LOS PESOS Y NODOS GAUSSIANOS\n",
    "    x_gauss, w_gauss = np.polynomial.legendre.leggauss(q)\n",
    "\n",
    "    # PASO 2: DEFINIR h(x) = √(1 + [g'(x)]^2)\n",
    "    h = lambda x: np.sqrt(1 + (np.power(gp(x), 2)))\n",
    "\n",
    "    # PASO 3: Definir f(δ) = int {xi}^{xi+δ} h(x) dx - l\n",
    "    def f(delta):\n",
    "        # transformar nodos [xi + xi+δ]\n",
    "        t = xi + delta * (x_gauss + 1) / 2\n",
    "        h_values = h(t) \n",
    "        # calcular la integral usando la cuadratura Gaussiana \n",
    "        integral = np.dot(w_gauss, h_values) * (delta / 2)\n",
    "        return integral - l\n",
    "    \n",
    "    # PASO 2: construir la funcion f_prima\n",
    "    def fp(delta):\n",
    "        return h(xi+delta)\n",
    "\n",
    "    \n",
    "    delta = Newton_1D(f,fp,l/2)\n",
    "\n",
    "    if (xi + delta <= b):\n",
    "        x_next = xi+delta\n",
    "        g_next = g(x_next)\n",
    "    else:\n",
    "        x_next = b\n",
    "        g_next = g(b)\n",
    "    \n",
    "\n",
    "    return x_next, g_next\n"
   ]
  },
  {
   "cell_type": "markdown",
   "id": "ee8556eb",
   "metadata": {},
   "source": [
    "---"
   ]
  },
  {
   "cell_type": "markdown",
   "id": "e6f817bb",
   "metadata": {},
   "source": [
    "# **Código Pauta**"
   ]
  },
  {
   "cell_type": "code",
   "execution_count": null,
   "id": "34808ee9",
   "metadata": {},
   "outputs": [],
   "source": [
    "# def gaussian_nodes_and_weights(q):\n",
    "    "
   ]
  },
  {
   "cell_type": "code",
   "execution_count": 8,
   "id": "f61df84e",
   "metadata": {},
   "outputs": [],
   "source": [
    "def Newton_1D(f, fp, x0, tol=1e-6, max_iter=100):\n",
    "    \"\"\"\n",
    "    Newton's method for finding roots of a function in 1D.\n",
    "    \n",
    "    # Input:\n",
    "    - f (callable)     : Function for which to find the root\n",
    "    - fp (callable)    : Derivative of the function\n",
    "    - x0 (float)       : Initial guess\n",
    "    - tol (float)      : Tolerance for convergence\n",
    "    - max_iter (int)   : Maximum number of iterations\n",
    "    \n",
    "    # Output:\n",
    "    - x (float)        : Approximate root of the function\n",
    "    \"\"\"\n",
    "    x = x0\n",
    "    for i in range(max_iter):\n",
    "        fx = f(x)\n",
    "        if abs(fx) < tol:\n",
    "            break\n",
    "        fpx = fp(x)\n",
    "        if abs(fpx) < 1e-15:\n",
    "            break\n",
    "        x = x - fx / fpx\n",
    "    return x"
   ]
  },
  {
   "cell_type": "code",
   "execution_count": 15,
   "id": "214da2a0",
   "metadata": {},
   "outputs": [],
   "source": [
    "def find_next_point(xi, g, gp, l, b, q):\n",
    "    \"\"\"\n",
    "    Find the next point in the sequence based on the given parameters.\n",
    "    \n",
    "    # Input:\n",
    "    - xi (float)       : Point x_i\n",
    "    - g (callable)     : Function g(x)\n",
    "    - gp (callable)    : Derivative of g(x)\n",
    "    - l (float)        : Arclength target\n",
    "    - b (float)        : Right limit of the interval\n",
    "    - q (float)        : Number of poins for numerical integration\n",
    "    \n",
    "    # Output:\n",
    "    - x_next (float)   : Next point in the sequence\n",
    "    - g_next (float)   : Value of g at the next point\n",
    "    \"\"\"\n",
    "    # PASO 1: COMPUTAR LOS PESOS Y NODOS GAUSSIANOS\n",
    "    x_gauss, w_gauss = np.polynomial.legendre.leggauss(q)\n",
    "\n",
    "    # PASO 2: DEFINIR h(x) = √(1 + [g'(x)]^2)\n",
    "    h = lambda x: np.sqrt(1 + (np.power(gp(x), 2)))\n",
    "\n",
    "    # PASO 3: Definir f(δ) = int {xi}^{xi+δ} h(x) dx - l\n",
    "    def f(delta):\n",
    "        # transformar nodos [xi + xi+δ]\n",
    "        t = xi + delta * (x_gauss + 1) / 2\n",
    "        h_values = h(t) \n",
    "        # calcular la integral usando la cuadratura Gaussiana \n",
    "        integral = np.dot(w_gauss, h_values) * (delta / 2)\n",
    "        return integral - l\n",
    "    \n",
    "    # PASO 4: Definir f'(δ) = h(xi + δ) (TFC)\n",
    "    fp = lambda delta: h(xi + delta) \n",
    "    \n",
    "    # PASO 5: Resolver f(δ) = 0 con Newton\n",
    "    r = Newton_1D(f, fp, x0=l/2)\n",
    "    \n",
    "    # PASO 6: Verificar limites y calcular resultado\n",
    "    if xi + r <= b: \n",
    "        x_next = xi + r\n",
    "    else:\n",
    "        x_next = b\n",
    "    \n",
    "    g_next = g(x_next)\n",
    "    return x_next, g_next\n"
   ]
  },
  {
   "cell_type": "code",
   "execution_count": null,
   "id": "cb8d7563",
   "metadata": {},
   "outputs": [
    {
     "data": {
      "application/vnd.jupyter.widget-view+json": {
       "model_id": "5fbeb5f68d1f40dabbff0f9d91a18436",
       "version_major": 2,
       "version_minor": 0
      },
      "text/plain": [
       "interactive(children=(IntSlider(value=20, description='Puntos equiespaciados', min=5, step=5), FloatSlider(val…"
      ]
     },
     "metadata": {},
     "output_type": "display_data"
    },
    {
     "data": {
      "text/plain": [
       "<function __main__.plot_comparison(n_points=20, l_arc=0.5, function='sin(x)cos(x)')>"
      ]
     },
     "execution_count": 16,
     "metadata": {},
     "output_type": "execute_result"
    }
   ],
   "source": [
    "from ipywidgets import interact, IntSlider, FloatSlider, Dropdown\n",
    "\n",
    "def generate_arc_length_points(a, b, g, gp, l_arc, q=10):\n",
    "    \"\"\"Genera secuencia de puntos con arc-length constante\"\"\"\n",
    "    points = [a]\n",
    "    current = a\n",
    "    while current < b:\n",
    "        next_point, _ = find_next_point(current, g, gp, l_arc, b, q)\n",
    "        \n",
    "        if np.isclose(next_point, current, atol=1e-10) or next_point <= current:\n",
    "            break\n",
    "        points.append(next_point)\n",
    "        current = next_point\n",
    "    \n",
    "\n",
    "    if not np.isclose(points[-1], b):\n",
    "        points.append(b)\n",
    "    \n",
    "    return np.array(points)\n",
    "\n",
    "\n",
    "def f1(x):\n",
    "    return np.sin(x) * np.cos(x)\n",
    "\n",
    "def fp1(x):\n",
    "    return np.cos(2*x)\n",
    "\n",
    "def f2(x):\n",
    "    return np.exp(-x/2) * np.sin(3*x)\n",
    "\n",
    "def fp2(x):\n",
    "    return np.exp(-x/2) * (3*np.cos(3*x) - 0.5*np.sin(3*x))\n",
    "\n",
    "def f3(x):\n",
    "    return 0.1 * (x - 2)**3 - 0.5*(x - 5)**2 + 2\n",
    "\n",
    "def fp3(x):\n",
    "    return 0.3*(x - 2)**2 - (x - 5)\n",
    "\n",
    "\n",
    "def plot_comparison(n_points=20, l_arc=0.5, function='sin(x)cos(x)'):\n",
    "    if function == 'sin(x)cos(x)':\n",
    "        f, fp, a, b = f1, fp1, 0, 10\n",
    "    elif function == 'e^{-x/2}sin(3x)':\n",
    "        f, fp, a, b = f2, fp2, 0, 10\n",
    "    else:\n",
    "        f, fp, a, b = f3, fp3, 0, 10\n",
    "    \n",
    "    # Generar puntos equiespaciados\n",
    "    x_eq = np.linspace(a, b, n_points)\n",
    "    y_eq = f(x_eq)\n",
    "    \n",
    "    # Generar puntos con arc-length constante\n",
    "    x_arc = generate_arc_length_points(a, b, f, fp, l_arc)\n",
    "    y_arc = f(x_arc)\n",
    "\n",
    "    # Calcular valores reales de f() para comparación\n",
    "    x_real = np.linspace(a, b, 1000)\n",
    "    y_real = f(x_real)\n",
    "    \n",
    "    # Crear figura con cuadrícula 2x2\n",
    "    fig, axs = plt.subplots(2, 2, figsize=(15, 10))\n",
    "    plt.subplots_adjust(hspace=0.3, wspace=0.3)\n",
    "    \n",
    "    # Subplot (0,0): Scatter de f() con puntos equidistantes\n",
    "    axs[0, 0].plot(x_eq, y_eq, 'bo-', alpha=0.7, label='Equiespaciados')\n",
    "    axs[0, 0].plot(x_real, y_real, alpha=0.5, label='f(x) real', color='gray')\n",
    "    axs[0, 0].set_title(f'Puntos equiespaciados (n={n_points})')\n",
    "    axs[0, 0].set_xlabel('x')\n",
    "    axs[0, 0].set_ylabel('f(x)')\n",
    "    axs[0, 0].grid(True)\n",
    "    \n",
    "    # Subplot (0,1): Scatter de f() con puntos arclen equidistantes\n",
    "    axs[0, 1].plot(x_arc, y_arc, 'ro-', alpha=0.7, label='Arc-length constante')\n",
    "    axs[0, 1].plot(x_real, y_real, alpha=0.5, label='f(x) real', color='gray')\n",
    "    axs[0, 1].set_title(f'Arc-length constante (n={len(x_arc)}, l={l_arc:.2f})')\n",
    "    axs[0, 1].set_xlabel('x')\n",
    "    axs[0, 1].set_ylabel('f(x)')\n",
    "    axs[0, 1].grid(True)\n",
    "    \n",
    "    # Subplot (1,0): Distribución de puntos en el eje x\n",
    "    axs[1, 0].plot(x_eq, np.zeros_like(x_eq), 'bo', alpha=0.7, label='Equiespaciados')\n",
    "    axs[1, 0].plot(x_arc, np.ones_like(x_arc), 'ro', alpha=0.7, label='Arc-length')\n",
    "    axs[1, 0].set_title('Distribución de puntos en el eje x')\n",
    "    axs[1, 0].set_yticks([0, 1])\n",
    "    axs[1, 0].set_yticklabels(['Equiespaciados', 'Arc-length'])\n",
    "    axs[1, 0].set_xlabel('x')\n",
    "    axs[1, 0].set_ylim(-0.5, 1.5)\n",
    "    axs[1, 0].grid(True)\n",
    "    axs[1, 0].legend()\n",
    "    \n",
    "    # Subplot (1,1): Vacío\n",
    "    axs[1, 1].axis('off') \n",
    "\n",
    "    fig.suptitle(f'Comparación de métodos para: {function}', fontsize=16)\n",
    "    plt.tight_layout(rect=[0, 0, 1, 0.96])\n",
    "    \n",
    "    plt.show()\n",
    "\n",
    "# Interfaz interactiva\n",
    "interact(plot_comparison,\n",
    "         n_points=IntSlider(value=20, min=5, max=100, step=5, description='Puntos equiespaciados'),\n",
    "         l_arc=FloatSlider(value=0.5, min=0.1, max=2.0, step=0.1, description='Longitud arco'),\n",
    "         function=Dropdown(options=['sin(x)cos(x)', 'e^{-x/2}sin(3x)', 'Polinomio cúbico'], \n",
    "                           value='sin(x)cos(x)', description='Función'))"
   ]
  },
  {
   "cell_type": "code",
   "execution_count": null,
   "id": "812562f6",
   "metadata": {},
   "outputs": [],
   "source": []
  }
 ],
 "metadata": {
  "kernelspec": {
   "display_name": "base",
   "language": "python",
   "name": "python3"
  },
  "language_info": {
   "codemirror_mode": {
    "name": "ipython",
    "version": 3
   },
   "file_extension": ".py",
   "mimetype": "text/x-python",
   "name": "python",
   "nbconvert_exporter": "python",
   "pygments_lexer": "ipython3",
   "version": "3.12.3"
  }
 },
 "nbformat": 4,
 "nbformat_minor": 5
}
