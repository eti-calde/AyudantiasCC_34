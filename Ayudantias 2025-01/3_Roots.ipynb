{
 "cells": [
  {
   "cell_type": "markdown",
   "metadata": {},
   "source": [
    "# Ayudantía 3 - Busqueda de Raices\n",
    "## Etienne Rojas\n",
    "\n",
    "Ante cualquier duda o posible corrección, por favor mandar un correo a `etienne.rojas@sansano.usm.cl` \n",
    "\n",
    "---\n",
    "\n",
    "# PREGUNTA 1\n",
    "\n",
    "Complete el código"
   ]
  },
  {
   "cell_type": "code",
   "execution_count": 1,
   "metadata": {},
   "outputs": [],
   "source": [
    "import numpy as np\n",
    "import matplotlib.pyplot as plt"
   ]
  },
  {
   "cell_type": "code",
   "execution_count": 2,
   "metadata": {},
   "outputs": [],
   "source": [
    "\n",
    "def newton_raphson_estudiante(f, x0, tol=1e-10, max_iter=100):\n",
    "    \"\"\"\n",
    "    Método de Newton-Raphson con preasignación de memoria usando np.empty.\n",
    "\n",
    "    Parámetros:\n",
    "    - f: función f(x)\n",
    "    - x0: valor inicial\n",
    "    - tol: tolerancia de convergencia\n",
    "    - max_iter: número máximo de iteraciones\n",
    "\n",
    "    Retorna:\n",
    "    - newton_root: arreglo numpy con los valores de x generados durante las iteraciones\n",
    "    \"\"\"\n",
    "\n",
    "    # TENGA CUIDADO CON EL np.empty.\n",
    "    # SI NO SE COMPLETAN LAS ITERACIONES TIENE QUE CORTAR EL ARRAY.\n",
    "    # PRINTEE LOS VALORES DE NP.EMPTY PARA VER QUE NO SE INICIAN EN 0.\n",
    "    newton_root = np.empty(max_iter + 1)\n",
    "    newton_root[0] = x0\n",
    "    # Aca va su código\n",
    "    # ----------------------------------------------------------------------------\n",
    "\n",
    "    # ----------------------------------------------------------------------------\n",
    "    return newton_root\n"
   ]
  },
  {
   "cell_type": "markdown",
   "metadata": {},
   "source": [
    "- Si no concemos la derivada entonces tenemos que aproximarla, lo que resulta en el método de la secante? siempre?"
   ]
  },
  {
   "cell_type": "markdown",
   "metadata": {},
   "source": [
    "## EJERCICIO 2\n",
    "Invente una función en la cual el método de Newton entre en un loop infinito entre 3 puntos, tiene total libertad en el diseño de la función así como la elección de los puntos."
   ]
  },
  {
   "cell_type": "markdown",
   "metadata": {},
   "source": [
    "---\n",
    "# Pauta\n",
    "\n",
    "## EJERCICIO 1"
   ]
  },
  {
   "cell_type": "code",
   "execution_count": 3,
   "metadata": {},
   "outputs": [],
   "source": [
    "\n",
    "def newton_raphson_pauta(f, x0, tol=1e-10, max_iter=100):\n",
    "    \"\"\"\n",
    "    Método de Newton-Raphson con preasignación de memoria usando np.empty.\n",
    "\n",
    "    Parámetros:\n",
    "    - f: función f(x)\n",
    "    - x0: valor inicial\n",
    "    - tol: tolerancia de convergencia\n",
    "    - max_iter: número máximo de iteraciones\n",
    "\n",
    "    Retorna:\n",
    "    - xs[:n]: arreglo numpy con los valores de x generados durante las iteraciones\n",
    "    \"\"\"\n",
    "    newton_root = np.empty(max_iter + 1)\n",
    "    newton_root[0] = x0\n",
    "    # Aca va su código\n",
    "    # ----------------------------------------------------------------------------\n",
    "    h = 1e-5    \n",
    "    x = x0\n",
    "\n",
    "    for i in range(max_iter):\n",
    "        fx = f(x)\n",
    "        # VER PAGINA 204 DEL APUNTE\n",
    "        dfx = (f(x + h) - f(x - h)) / (2 * h)\n",
    "\n",
    "        if np.abs(dfx) < 1e-14:\n",
    "            print(\"Derivada cercana a cero. Paren todo!!\")\n",
    "            return newton_root[:i+1]\n",
    "\n",
    "        x_new = x - fx / dfx\n",
    "        newton_root[i + 1] = x_new\n",
    "\n",
    "        if np.abs(x_new - x) < tol:\n",
    "            return newton_root[:i+2]\n",
    "\n",
    "        x = x_new\n",
    "    # ----------------------------------------------------------------------------\n",
    "    return newton_root"
   ]
  },
  {
   "cell_type": "markdown",
   "metadata": {},
   "source": [
    "---\n",
    "## EJERCICIO 2"
   ]
  },
  {
   "cell_type": "markdown",
   "metadata": {},
   "source": [
    "### 1. ¿Qué significa el loop?\n",
    "\n",
    "Para que existe un loop basicamente necesitamos que se cumplan los siguientes casos:\n",
    "$$\n",
    "\\begin{cases}\n",
    "x_1 = x_0 - \\frac{f(x_0)}{f'(x_0)}\\\\\n",
    "x_2 = x_1 - \\frac{f(x_1)}{f'(x_1)}\\\\\n",
    "x_0 = x_2 - \\frac{f(x_2)}{f'(x_2)}\\\\\n",
    "\\end{cases}\n",
    "$$\n",
    "\n",
    "---"
   ]
  },
  {
   "cell_type": "markdown",
   "metadata": {},
   "source": [
    "### 2. Elegir puntos\n",
    "yo elegí:\n",
    "$$\n",
    "x_0 = 0 , \\quad x_1 =1 , \\quad x_2 =2\n",
    "$$\n",
    "---"
   ]
  },
  {
   "cell_type": "markdown",
   "metadata": {},
   "source": [
    "### 3. Elegir una función\n",
    "- Aquí se pone complicada la cosa, muchas funciones pueden ser candidatas.\n",
    "- !!por favor antes de seguir la pauta intente crear una función por su propia cuenta!!\n",
    "- Yo elegí un **polinomio** por su continuidad y flexibilidad y además calcular su derivada es muy sencillo.\n",
    "- En el paso 1 definimos 3 ecuaciones así que solo necesitamos 3 variables para que exista una solución, pero con un polinomio de grado 2 el loop no funciona (INTENTELO!).\n",
    "- Así que la función seleccionada sera un polinomio de grado 4 con el cual vamos a obtener un sistema sobredeterminado con infinitas soluciones.\n",
    "\n",
    "$$\n",
    "f(x) = a_0 + a_1 x + a_2 x^2 + a_3 x^3\n",
    "$$\n",
    "\n",
    "$$\n",
    "f'(x) = a_1 + 2a_2 x + 3 a_3 x^2\n",
    "$$\n",
    "\n",
    "--- "
   ]
  },
  {
   "cell_type": "markdown",
   "metadata": {},
   "source": [
    "### 4.  Reemplazando en el sistema del paso 1\n",
    "- Al remplazar tanto $f(x)$ como $f'(x)$ así como los puntos $x_0,x_1$ y $x_2$ en las 3 ecuaciones del paso 1, debería llegar al siguiente sistema:\n",
    "$$\n",
    "\\begin{split}\n",
    "a_0 + a_1 &= 0\\\\\n",
    "a_1 + 3 a_2 + 4a_3 &=0\\\\\n",
    "-a_1 - 4a_2 -16a_3 &=0 \\\\\n",
    "\\end{split}\n",
    "$$"
   ]
  },
  {
   "cell_type": "markdown",
   "metadata": {},
   "source": [
    "---"
   ]
  },
  {
   "cell_type": "markdown",
   "metadata": {},
   "source": [
    "### 5. Resolver el sistema\n",
    "- Se puede resolver simplemente con sustitución y debería llegar a:\n",
    "$$\n",
    "\\begin{split}\n",
    "a_0 &= -32a_3\\\\\n",
    "a_1 &= 32a_3 \\\\\n",
    "a_2 &= -12a_3 \\\\\n",
    "\\end{split}\n",
    "$$\n",
    "---"
   ]
  },
  {
   "cell_type": "markdown",
   "metadata": {},
   "source": [
    "### 6. Plantear el polinomio\n",
    "- Dado que el sistema es sobredeterminado tenemos infinitas soluciones para los infinitos valores de $a_3$, yo elegí $a_3 =1$ y llegamos a:\n",
    "$$\n",
    "P(x) = -32 + 32x -12x^2 + x^3\n",
    "$$\n",
    "--- "
   ]
  },
  {
   "cell_type": "markdown",
   "metadata": {},
   "source": [
    "# ATENCIÓN !!\n",
    "Se le invita a probar el codigo de abajo con su propia versión de la función newton_raphson, probrando distintas funciones y puntos de inicio.\n",
    "\n",
    "# Visualizando lo Trabajado"
   ]
  },
  {
   "cell_type": "code",
   "execution_count": 4,
   "metadata": {},
   "outputs": [
    {
     "data": {
      "image/png": "[encoded data removed]",
      "text/plain": [
       "<Figure size 1000x600 with 1 Axes>"
      ]
     },
     "metadata": {},
     "output_type": "display_data"
    },
    {
     "name": "stdout",
     "output_type": "stream",
     "text": [
      "Raíz encontrada: 7.971667770334534e-11\n",
      "Evaluando f en la raíz: -31.999999997449066\n",
      "Historial de las raices: [0.00000000e+00 1.00000000e+00 2.00000000e+00 7.97166777e-11]\n"
     ]
    }
   ],
   "source": [
    "def f_nice(x): # USAR x0 = 10\n",
    "    return x**3 - x - 2\n",
    "\n",
    "def f_loop2(x): # USAR x0 = 0.5\n",
    "    return (4*x**4) - (6*x**2) - (11/4)\n",
    "\n",
    "def f_loop3(x): # USAR x0 = 0\n",
    "    return (-32) + (32*x) + (-12*x**2) + (x**3)\n",
    "\n",
    "f_used = f_loop3\n",
    "x0 = 0\n",
    "roots = np.array(newton_raphson_pauta(f_used, x0, max_iter=3))\n",
    "\n",
    "margin = 1\n",
    "x_vals = np.linspace(min(roots) - margin, max(roots) + margin, 100)\n",
    "y_vals = f_used(x_vals)\n",
    "\n",
    "# ----------------------------------------------------------------------------------------------------\n",
    "plt.figure(figsize=(10, 6))\n",
    "plt.plot(x_vals, y_vals, label='f(x)', color='blue')\n",
    "plt.axhline(0, color='gray', linestyle='--')\n",
    "y_roots = f_used(roots)\n",
    "plt.plot(roots, y_roots, 'ro-', label='Iteraciones de Newton')\n",
    "for i, (root, yi) in enumerate(zip(roots, y_roots)):\n",
    "    plt.annotate(f\"{i}\", (root, yi), textcoords=\"offset points\", xytext=(0,5), ha='center')\n",
    "plt.title(\"Método de Newton-Raphson\")\n",
    "plt.xlabel(\"x\")\n",
    "plt.ylabel(\"f(x)\")\n",
    "plt.legend()\n",
    "plt.grid(True)\n",
    "plt.show()\n",
    "print(\"Raíz encontrada:\", roots[-1])\n",
    "print(\"Evaluando f en la raíz:\", f_used(roots[-1]))\n",
    "print(\"Historial de las raices:\", roots)"
   ]
  },
  {
   "cell_type": "markdown",
   "metadata": {},
   "source": []
  }
 ],
 "metadata": {
  "kernelspec": {
   "display_name": "venv",
   "language": "python",
   "name": "python3"
  },
  "language_info": {
   "codemirror_mode": {
    "name": "ipython",
    "version": 3
   },
   "file_extension": ".py",
   "mimetype": "text/x-python",
   "name": "python",
   "nbconvert_exporter": "python",
   "pygments_lexer": "ipython3",
   "version": "3.12.9"
  }
 },
 "nbformat": 4,
 "nbformat_minor": 2
}
