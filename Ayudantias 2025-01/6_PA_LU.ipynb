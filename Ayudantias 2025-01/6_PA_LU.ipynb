{
 "cells": [
  {
   "cell_type": "markdown",
   "id": "b6cc5d8b",
   "metadata": {},
   "source": [
    "# **Ayudantía 5 - PA LU**\n",
    "## Etienne Rojas\n",
    "\n",
    "Ante cualquier duda o posible corrección, por favor mandar un correo a `etienne.rojas@sansano.usm.cl` \n",
    "\n",
    "---"
   ]
  },
  {
   "cell_type": "code",
   "execution_count": 1,
   "id": "af93b4f6",
   "metadata": {},
   "outputs": [],
   "source": [
    "import numpy as np\n",
    "import matplotlib.pyplot as plt"
   ]
  },
  {
   "cell_type": "markdown",
   "id": "0d44742a",
   "metadata": {},
   "source": [
    "# **Ejercicio 1**\n",
    "\n",
    "Considera la matriz $A \\in \\mathbb{R}^{n \\times n}$ definida como:\n",
    "\n",
    "$$\n",
    "A_{ij} = \\begin{cases}\n",
    "1, \\quad i=j    \\\\\n",
    "-1, \\quad i>j   \\\\\n",
    "1, \\quad j=n    \\\\\n",
    "0, \\quad en\\;otro\\;caso\n",
    "\\end{cases}\n",
    "$$\n",
    "\n",
    "\n",
    "**Parte (a)**: Para $n = 4$, encuentra matrices $P$, $L$ y $U$ tal que:\n",
    "\n",
    "$$\n",
    "PA = LU\n",
    "$$\n",
    "\n",
    "\n",
    "**Parte (b)**: Generaliza la factorización LU para una matriz $A_n$ con la estructura dada para tamaño arbitrario $n$. Describe las formas generales de $L$ y $U$ y demuestre por inducción que su factorización es correcta.\n",
    "\n"
   ]
  },
  {
   "cell_type": "markdown",
   "id": "7e727bb6",
   "metadata": {},
   "source": [
    "---"
   ]
  },
  {
   "cell_type": "markdown",
   "id": "fa56240e",
   "metadata": {},
   "source": [
    "# **Pauta Ejercicio 1**\n",
    "\n",
    "## **Part3 a**\n",
    "\n",
    "La matriz dada es:\n",
    "\n",
    "$$\n",
    "A = \n",
    "\\begin{bmatrix}\n",
    "1 & 0 & 0 & 1 \\\\\n",
    "-1 & 1 & 0 & 1 \\\\\n",
    "-1 & -1 & 1 & 1 \\\\\n",
    "-1 & -1 & -1 & 1\n",
    "\\end{bmatrix}\n",
    "$$\n",
    "\n",
    "**Paso 1: Primer pivote (columna 1)**\n",
    "\n",
    "Multiplicadores:\n",
    "- $m_{21} = -1$, $m_{31} = -1$, $m_{41} = -1$\n",
    "\n",
    "Actualizamos:\n",
    "- R2 ← R2 + 1×R1 ⇒ $[0, 1, 0, 2]$\n",
    "- R3 ← R3 + 1×R1 ⇒ $[0, -1, 1, 2]$\n",
    "- R4 ← R4 + 1×R1 ⇒ $[0, -1, -1, 2]$\n",
    "\n",
    "\n",
    "**Paso 2: Segundo pivote (columna 2)**\n",
    "\n",
    "\n",
    "Multiplicadores:\n",
    "- $m_{32} = -1$, $m_{42} = -1$\n",
    "\n",
    "Actualizamos:\n",
    "- F3 ← F3 + 1×F2 ⇒ $[0, 0, 1, 4]$\n",
    "- F4 ← F4 + 1×F2 ⇒ $[0, 0, -1, 4]$\n",
    "\n",
    "\n",
    "**Paso 3: Tercer pivote (columna 3)**\n",
    "\n",
    "Multiplicador:\n",
    "- $m_{43} = -1$\n",
    "\n",
    "Actualizamos:\n",
    "- F4 ← F4 + 1×F3 ⇒ $[0, 0, 0, 8]$\n",
    "\n",
    "\n",
    "**Matrices resultantes**\n",
    "\n",
    "$$\n",
    "L = \n",
    "\\begin{bmatrix}\n",
    "1 & 0 & 0 & 0 \\\\\n",
    "-1 & 1 & 0 & 0 \\\\\n",
    "-1 & -1 & 1 & 0 \\\\\n",
    "-1 & -1 & -1 & 1\n",
    "\\end{bmatrix},\n",
    "\\quad\n",
    "U = \n",
    "\\begin{bmatrix}\n",
    "1 & 0 & 0 & 1 \\\\\n",
    "0 & 1 & 0 & 2 \\\\\n",
    "0 & 0 & 1 & 4 \\\\\n",
    "0 & 0 & 0 & 8\n",
    "\\end{bmatrix}\n",
    "$$\n",
    "\n",
    "Como no fue necesario pivotear:\n",
    "\n",
    "$$\n",
    "P = I\n",
    "\\quad \\Rightarrow \\quad\n",
    "\\boxed{A = LU}\n",
    "$$\n",
    "\n",
    "Puedes verificar que $LU = A$ haciendo la multiplicación.\n"
   ]
  },
  {
   "cell_type": "code",
   "execution_count": 2,
   "id": "ef6e1ca2",
   "metadata": {},
   "outputs": [
    {
     "name": "stdout",
     "output_type": "stream",
     "text": [
      "A4 = \n",
      " [[ 1  0  0  1]\n",
      " [-1  1  0  1]\n",
      " [-1 -1  1  1]\n",
      " [-1 -1 -1  1]]\n",
      "L4@U4 = \n",
      " [[ 1  0  0  1]\n",
      " [-1  1  0  1]\n",
      " [-1 -1  1  1]\n",
      " [-1 -1 -1  1]]\n"
     ]
    }
   ],
   "source": [
    "A4 = np.array([[ 1, 0, 0, 1], \n",
    "               [-1, 1, 0, 1], \n",
    "               [-1,-1, 1, 1], \n",
    "               [-1,-1,-1, 1]])\n",
    "\n",
    "L4 = np.array([[ 1, 0, 0, 0],\n",
    "               [-1, 1, 0, 0], \n",
    "               [-1,-1, 1, 0], \n",
    "               [-1,-1,-1, 1]])\n",
    "\n",
    "U4 = np.array([[ 1, 0, 0, 1],\n",
    "               [ 0, 1, 0, 2], \n",
    "               [ 0, 0, 1, 4], \n",
    "               [ 0, 0, 0, 8]])\n",
    "\n",
    "print(\"A4 = \\n\", A4)\n",
    "print(\"L4@U4 = \\n\", L4@U4)"
   ]
  },
  {
   "cell_type": "markdown",
   "id": "f25b1fce",
   "metadata": {},
   "source": [
    "---"
   ]
  },
  {
   "cell_type": "markdown",
   "id": "3a7b0456",
   "metadata": {},
   "source": [
    "## **Parte b**\n"
   ]
  },
  {
   "cell_type": "markdown",
   "id": "d38b697b",
   "metadata": {},
   "source": [
    "Lo hacemos en la pizarra :p"
   ]
  },
  {
   "cell_type": "markdown",
   "id": "5569b522",
   "metadata": {},
   "source": [
    "---"
   ]
  },
  {
   "cell_type": "markdown",
   "id": "16de2b18",
   "metadata": {},
   "source": [
    "## **Ejercicio 2**\n",
    "\n",
    "\n",
    "Complete la siguiente lista de funciones donde la matriz A es la matriz del ejercicio 1."
   ]
  },
  {
   "cell_type": "code",
   "execution_count": 20,
   "id": "f381151f",
   "metadata": {},
   "outputs": [],
   "source": [
    "# PARAMETROS GENEREALES\n",
    "# ----------------------------------------\n",
    "N = 5 # Tamaño de las matrices\n",
    "seed= 42"
   ]
  },
  {
   "cell_type": "code",
   "execution_count": 40,
   "id": "65f735a0",
   "metadata": {},
   "outputs": [
    {
     "name": "stdout",
     "output_type": "stream",
     "text": [
      "Matriz original A:\n",
      " [[ 1  2  3  4]\n",
      " [ 5  6  7  8]\n",
      " [ 9 10 11 12]\n",
      " [13 14 15 16]]\n",
      "\n",
      "Parte triangular inferior de A (np.tril):\n",
      " [[ 1  0  0  0]\n",
      " [ 5  6  0  0]\n",
      " [ 9 10 11  0]\n",
      " [13 14 15 16]]\n"
     ]
    }
   ],
   "source": [
    "# IMPORTANTE CONOCER ESTA FUNCION\n",
    "\n",
    "np.ones((N,N))\n",
    "A = np.arange(1, 17).reshape(4, 4)\n",
    "print(\"Matriz original A:\\n\", A)\n",
    "\n",
    "# Obtener la parte triangular inferior\n",
    "L = np.tril(A)\n",
    "print(\"\\nParte triangular inferior de A (np.tril):\\n\", L)"
   ]
  },
  {
   "cell_type": "code",
   "execution_count": null,
   "id": "87d0f7f6",
   "metadata": {},
   "outputs": [],
   "source": [
    "def generate_random_b_estudiantes(N, seed =42):\n",
    "    \"\"\"\n",
    "    Genera un vector b aleatorio de tamaño N con valores enterose entre 0 y 9.\n",
    "    Tiene que utilizar la semilla seed=42 para que los resultados sean reproducibles.\n",
    "    \"\"\"\n",
    "    # SU CODIGO VA ACA\n",
    "    #-----------------\n",
    "\n",
    "\n",
    "    #-----------------\n",
    "    return b\n",
    "    \n",
    "# print(\"b = \\n\", generate_random_b_estudiantes(N,seed))"
   ]
  },
  {
   "cell_type": "code",
   "execution_count": 34,
   "id": "14976bb4",
   "metadata": {},
   "outputs": [],
   "source": [
    "def create_matrix_A_estudiantes(N):\n",
    "    \"\"\"\n",
    "    Construye la matriz A de tamaño n x n:\n",
    "    - 1 en la diagonal\n",
    "    - -1 debajo de la diagonal (excepto en la última columna)\n",
    "    - 1 en toda la última columna\n",
    "    \"\"\"\n",
    "    # SU CODIGO VA ACA\n",
    "    #-----------------\n",
    "\n",
    "\n",
    "\n",
    "    #-----------------\n",
    "    return A\n",
    "\n",
    "#A_N = create_matrix_A_estudiantes(N)\n",
    "#print(\"A_N = \\n\", A_N)"
   ]
  },
  {
   "cell_type": "code",
   "execution_count": 41,
   "id": "d09195f0",
   "metadata": {},
   "outputs": [],
   "source": [
    "def LU_factorization_estudiantes(N):\n",
    "    \"\"\"\n",
    "    Factoriza la matriz A en L y U.\n",
    "    L es una matriz triangular inferior con 1s en la diagonal.\n",
    "    U es una matriz triangular superior.\n",
    "    \"\"\"\n",
    "    # SU CODIGO VA ACA\n",
    "    #-----------------\n",
    "\n",
    "\n",
    "    #------------------\n",
    "    return L,U\n",
    "\n",
    "# L_N, U_N = LU_factorization_estudiantes(N)\n",
    "# print(\"L_N = \\n\", L_N)\n",
    "# print(\"U_N = \\n\", U_N)"
   ]
  },
  {
   "cell_type": "code",
   "execution_count": 44,
   "id": "fd3ffd34",
   "metadata": {},
   "outputs": [],
   "source": [
    "def backward_substitution_estudiantes(U, c):\n",
    "    \"\"\"\n",
    "    Resuelve el sistema Ux = c por sustitución hacia atrás.\n",
    "    U debe ser una matriz triangular superior.\n",
    "    \"\"\"\n",
    "    # SU CODIGO VA ACA\n",
    "    #-----------------\n",
    "\n",
    "\n",
    "\n",
    "    #-----------------\n",
    "    return x\n"
   ]
  },
  {
   "cell_type": "code",
   "execution_count": 45,
   "id": "464deecf",
   "metadata": {},
   "outputs": [],
   "source": [
    "def forward_substitution_estudiantes(L, b):\n",
    "    \"\"\"\n",
    "    Resuelve el sistema Lx = b por sustitución hacia adelante.\n",
    "    L debe ser una matriz triangular inferior.\n",
    "    \"\"\"\n",
    "    # SU CODIGO VA ACA\n",
    "    #-----------------\n",
    "\n",
    "    #-----------------\n",
    "    return x"
   ]
  },
  {
   "cell_type": "code",
   "execution_count": null,
   "id": "53b370f8",
   "metadata": {},
   "outputs": [],
   "source": [
    "A_N = create_matrix_A_estudiantes(N)\n",
    "b_N = generate_random_b_estudiantes(N, seed)\n",
    "\n",
    "print(\"SISTEMA DE ECUACIONES LINEALES\\n\")\n",
    "print(\"A x = b\")\n",
    "print(\"A_N = \\n\", A_N)\n",
    "print(\"b_N = \\n\", b_N)\n",
    "print(\"\\n\")\n",
    "\n",
    "L_N, U_N = LU_factorization_estudiantes(N)\n",
    "print(\"FACTORIZACION LU de A_N\\n\")\n",
    "print(\"L_N = \\n\", L_N)\n",
    "print(\"U_N = \\n\", U_N)\n",
    "print(\"\\n\")\n",
    "\n",
    "print(\"RESOLVEMOS EL SISTEMA USANDO LA LU\\n\")\n",
    "c_N = forward_substitution_estudiantes(L_N, b_N)\n",
    "x_N = backward_substitution_estudiantes(U_N, c_N)\n",
    "\n",
    "print(\"COMPROBAMOS QUE LA SOLUCION ES CORRECTA\\n\")\n",
    "print(\"A_N @ x_N = \\n\", A_N @ x_N)\n",
    "print(\"b_N = \\n\", b_N)"
   ]
  },
  {
   "cell_type": "markdown",
   "id": "76a7772e",
   "metadata": {},
   "source": [
    "---"
   ]
  },
  {
   "cell_type": "markdown",
   "id": "4329d268",
   "metadata": {},
   "source": [
    "# **PAUTA EJERCICIO 2**"
   ]
  },
  {
   "cell_type": "code",
   "execution_count": 47,
   "id": "77ee5ff6",
   "metadata": {},
   "outputs": [
    {
     "name": "stdout",
     "output_type": "stream",
     "text": [
      "b = \n",
      " [[6]\n",
      " [3]\n",
      " [7]\n",
      " [4]\n",
      " [6]]\n"
     ]
    }
   ],
   "source": [
    "def generate_random_b(N, seed =42):\n",
    "    \"\"\"\n",
    "    Genera un vector b aleatorio de tamaño N con valores enterose entre 0 y 9.\n",
    "    Tiene que utilizar la semilla seed=42 para que los resultados sean reproducibles.\n",
    "    \"\"\"\n",
    "    np.random.seed(seed)\n",
    "    b = np.random.randint(0, 10, size=(N, 1))\n",
    "    return b\n",
    "    \n",
    "print(\"b = \\n\", generate_random_b(N,seed))"
   ]
  },
  {
   "cell_type": "code",
   "execution_count": 48,
   "id": "21e46f96",
   "metadata": {},
   "outputs": [
    {
     "name": "stdout",
     "output_type": "stream",
     "text": [
      "A_N = \n",
      " [[ 1.  0.  0.  0.  1.]\n",
      " [-1.  1.  0.  0.  1.]\n",
      " [-1. -1.  1.  0.  1.]\n",
      " [-1. -1. -1.  1.  1.]\n",
      " [-1. -1. -1. -1.  1.]]\n"
     ]
    }
   ],
   "source": [
    "def create_matrix_A(N):\n",
    "    \"\"\"\n",
    "    Construye la matriz A de tamaño n x n:\n",
    "    - 1 en la diagonal\n",
    "    - -1 debajo de la diagonal (excepto en la última columna)\n",
    "    - 1 en toda la última columna\n",
    "    \"\"\"\n",
    "    A = np.zeros((N, N))\n",
    "\n",
    "    np.fill_diagonal(A, 1)\n",
    "\n",
    "    filas, columnas = np.tril_indices(N, k=-1)\n",
    "    A[filas, columnas] = -1\n",
    "\n",
    "    A[:, -1] = 1\n",
    "\n",
    "    return A\n",
    "\n",
    "A_N = create_matrix_A(N)\n",
    "print(\"A_N = \\n\", A_N)"
   ]
  },
  {
   "cell_type": "code",
   "execution_count": 49,
   "id": "1bef7065",
   "metadata": {},
   "outputs": [
    {
     "name": "stdout",
     "output_type": "stream",
     "text": [
      "L_N = \n",
      " [[ 1.  0.  0.  0.  0.]\n",
      " [-1.  1.  0.  0.  0.]\n",
      " [-1. -1.  1.  0.  0.]\n",
      " [-1. -1. -1.  1.  0.]\n",
      " [-1. -1. -1. -1.  1.]]\n",
      "U_N = \n",
      " [[ 1.  0.  0.  0.  1.]\n",
      " [ 0.  1.  0.  0.  2.]\n",
      " [ 0.  0.  1.  0.  4.]\n",
      " [ 0.  0.  0.  1.  8.]\n",
      " [ 0.  0.  0.  0. 16.]]\n"
     ]
    }
   ],
   "source": [
    "def LU_factorization(N):\n",
    "    \"\"\"\n",
    "    Factoriza la matriz A en L y U.\n",
    "    L es una matriz triangular inferior con 1s en la diagonal.\n",
    "    U es una matriz triangular superior.\n",
    "    \"\"\"\n",
    "    L = np.tril(-np.ones((N, N)), k=-1) + np.eye(N)\n",
    "    \n",
    "    U = np.zeros((N, N))\n",
    "    np.fill_diagonal(U, 1)\n",
    "    U[:, -1] = 2 ** np.arange(N)\n",
    "    return L,U\n",
    "\n",
    "L_N, U_N = LU_factorization(N)\n",
    "print(\"L_N = \\n\", L_N)\n",
    "print(\"U_N = \\n\", U_N)"
   ]
  },
  {
   "cell_type": "code",
   "execution_count": 50,
   "id": "2a75d2f5",
   "metadata": {},
   "outputs": [],
   "source": [
    "def backward_substitution(U, c):\n",
    "    \"\"\"\n",
    "    Resuelve el sistema Ux = c por sustitución hacia atrás.\n",
    "    U debe ser una matriz triangular superior.\n",
    "    \"\"\"\n",
    "    n = U.shape[0]\n",
    "    x = np.zeros(n)\n",
    "\n",
    "    for i in reversed(range(n)):\n",
    "        if U[i, i] == 0:\n",
    "            raise ValueError(f\"Pivote cero en U[{i},{i}]; no se puede resolver.\")\n",
    "        \n",
    "        suma = np.dot(U[i, i+1:], x[i+1:])\n",
    "        x[i] = (c[i] - suma) / U[i, i]\n",
    "\n",
    "    return x\n"
   ]
  },
  {
   "cell_type": "code",
   "execution_count": 51,
   "id": "815bbd12",
   "metadata": {},
   "outputs": [],
   "source": [
    "def forward_substitution(L, b):\n",
    "    \"\"\"\n",
    "    Resuelve el sistema Lx = b por sustitución hacia adelante.\n",
    "    L debe ser una matriz triangular inferior.\n",
    "    \"\"\"\n",
    "    n = L.shape[0]\n",
    "    x = np.zeros(n)\n",
    "\n",
    "    for i in range(n):\n",
    "        suma = np.dot(L[i, :i], x[:i])\n",
    "        x[i] = (b[i] - suma) / L[i, i]\n",
    "\n",
    "    return x"
   ]
  },
  {
   "cell_type": "code",
   "execution_count": 52,
   "id": "e44fa35c",
   "metadata": {},
   "outputs": [],
   "source": [
    "def forward_substitution(L, b):\n",
    "    \"\"\"\n",
    "    Resuelve el sistema Lc = b por sustitución hacia adelante.\n",
    "    L debe ser triangular inferior con 1s en la diagonal.\n",
    "    \"\"\"\n",
    "    n = L.shape[0]\n",
    "    c = np.zeros(n)\n",
    "\n",
    "    for i in range(n):\n",
    "        suma = np.dot(L[i, :i], c[:i])\n",
    "        c[i] = b[i] - suma\n",
    "\n",
    "    return c\n"
   ]
  },
  {
   "cell_type": "code",
   "execution_count": 53,
   "id": "2f68c5ee",
   "metadata": {},
   "outputs": [
    {
     "name": "stdout",
     "output_type": "stream",
     "text": [
      "SISTEMA DE ECUACIONES LINEALES\n",
      "\n",
      "A x = b\n",
      "A_N = \n",
      " [[ 1.  0.  0.  0.  1.]\n",
      " [-1.  1.  0.  0.  1.]\n",
      " [-1. -1.  1.  0.  1.]\n",
      " [-1. -1. -1.  1.  1.]\n",
      " [-1. -1. -1. -1.  1.]]\n",
      "b_N = \n",
      " [[6]\n",
      " [3]\n",
      " [7]\n",
      " [4]\n",
      " [6]]\n",
      "\n",
      "\n",
      "FACTORIZACION LU de A_N\n",
      "\n",
      "L_N = \n",
      " [[ 1.  0.  0.  0.  0.]\n",
      " [-1.  1.  0.  0.  0.]\n",
      " [-1. -1.  1.  0.  0.]\n",
      " [-1. -1. -1.  1.  0.]\n",
      " [-1. -1. -1. -1.  1.]]\n",
      "U_N = \n",
      " [[ 1.  0.  0.  0.  1.]\n",
      " [ 0.  1.  0.  0.  2.]\n",
      " [ 0.  0.  1.  0.  4.]\n",
      " [ 0.  0.  0.  1.  8.]\n",
      " [ 0.  0.  0.  0. 16.]]\n",
      "\n",
      "\n",
      "RESOLVEMOS EL SISTEMA USANDO LA LU\n",
      "\n",
      "COMPROBAMOS QUE LA SOLUCION ES CORRECTA\n",
      "\n",
      "A_N @ x_N = \n",
      " [6. 3. 7. 4. 6.]\n",
      "b_N = \n",
      " [[6]\n",
      " [3]\n",
      " [7]\n",
      " [4]\n",
      " [6]]\n"
     ]
    },
    {
     "name": "stderr",
     "output_type": "stream",
     "text": [
      "C:\\Users\\56940\\AppData\\Local\\Temp\\ipykernel_14776\\2519720270.py:11: DeprecationWarning: Conversion of an array with ndim > 0 to a scalar is deprecated, and will error in future. Ensure you extract a single element from your array before performing this operation. (Deprecated NumPy 1.25.)\n",
      "  c[i] = b[i] - suma\n"
     ]
    }
   ],
   "source": [
    "A_N = create_matrix_A(N)\n",
    "b_N = generate_random_b(N, seed)\n",
    "\n",
    "print(\"SISTEMA DE ECUACIONES LINEALES\\n\")\n",
    "print(\"A x = b\")\n",
    "print(\"A_N = \\n\", A_N)\n",
    "print(\"b_N = \\n\", b_N)\n",
    "print(\"\\n\")\n",
    "\n",
    "L_N, U_N = LU_factorization(N)\n",
    "print(\"FACTORIZACION LU de A_N\\n\")\n",
    "print(\"L_N = \\n\", L_N)\n",
    "print(\"U_N = \\n\", U_N)\n",
    "print(\"\\n\")\n",
    "\n",
    "print(\"RESOLVEMOS EL SISTEMA USANDO LA LU\\n\")\n",
    "c_N = forward_substitution(L_N, b_N)\n",
    "x_N = backward_substitution(U_N, c_N)\n",
    "\n",
    "print(\"COMPROBAMOS QUE LA SOLUCION ES CORRECTA\\n\")\n",
    "print(\"A_N @ x_N = \\n\", A_N @ x_N)\n",
    "print(\"b_N = \\n\", b_N)"
   ]
  },
  {
   "cell_type": "code",
   "execution_count": null,
   "id": "d4570fbf",
   "metadata": {},
   "outputs": [],
   "source": [
    " "
   ]
  }
 ],
 "metadata": {
  "kernelspec": {
   "display_name": "base",
   "language": "python",
   "name": "python3"
  },
  "language_info": {
   "codemirror_mode": {
    "name": "ipython",
    "version": 3
   },
   "file_extension": ".py",
   "mimetype": "text/x-python",
   "name": "python",
   "nbconvert_exporter": "python",
   "pygments_lexer": "ipython3",
   "version": "3.12.3"
  }
 },
 "nbformat": 4,
 "nbformat_minor": 5
}
