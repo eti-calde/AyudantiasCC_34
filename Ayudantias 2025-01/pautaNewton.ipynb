{
 "cells": [
  {
   "cell_type": "markdown",
   "id": "029ef713",
   "metadata": {},
   "source": [
    "Ver COMO chota se deriva lo del laplaciano a mano jeje"
   ]
  },
  {
   "cell_type": "markdown",
   "id": "3d668481",
   "metadata": {},
   "source": [
    "El laplaciano esta dado por:\n",
    "\n",
    "$$\n",
    "\\Delta c = \\frac{\\partial^2 c}{\\partial x^2} + \\frac{\\partial^2 c}{\\partial y^2}\n",
    "$$\n",
    "\n",
    "Usando diferencias finitas\n",
    "$$\n",
    "\\frac{\\partial^2 c}{\\partial x^2} \\approx \\frac{c(x+\\Delta x, y) - 2c(x,y) + c(x-\\Delta x, y)}{(\\Delta x)^2}\n",
    "\n",
    "$$\n",
    "\n",
    "$$\n",
    "\\frac{\\partial^2 c}{\\partial y^2} \\approx \\frac{c(x, y+\\Delta y) - 2c(x,y) + c(x, y-\\Delta y)}{(\\Delta y)^2}\n",
    "\n",
    "$$"
   ]
  },
  {
   "cell_type": "markdown",
   "id": "5ddb663a",
   "metadata": {},
   "source": [
    "$$\n",
    "\\frac{d^2 f}{dx^2}(x) \\approx \\frac{f(x+\\Delta x) - 2f(x) + f(x-\\Delta x)}{(\\Delta x)^2}\n",
    "\n",
    "\n",
    "$$"
   ]
  },
  {
   "cell_type": "code",
   "execution_count": null,
   "id": "f6d92002",
   "metadata": {},
   "outputs": [],
   "source": [
    "def compute_residual(c_flat, X, Y, u, v, dt, D):\n",
    "    \"\"\"\n",
    "    Calcula el residuo F(c) = evolución(c) - c, para el sistema de advección-difusión.\n",
    "\n",
    "    Parámetros:\n",
    "    - c_flat: ndarray de forma (n²,), concentración actual aplanada en un vector.\n",
    "    - X, Y: mallas espaciales 2D con las coordenadas (x, y).\n",
    "    - u, v: componentes del campo de velocidad en cada punto.\n",
    "    - dt: paso de tiempo.\n",
    "    - D: coeficiente de difusión.\n",
    "\n",
    "    Retorna:\n",
    "    - F(c): ndarray de forma (n²,), residuo de la evolución (vector).\n",
    "    \"\"\"\n",
    "\n",
    "    n = X.shape[0]\n",
    "    c = c_flat.reshape((n, n))\n",
    "    \n",
    "    # Mover el flujo, hacia atras en el tiempo.\n",
    "    # Hacia adelaste es rpegunta a donde va\n",
    "    # hacia atras es pregunta de donde viene\n",
    "    # Hacia atras es el enfoque lagrangeano que es mas estable.\n",
    "    X_new = X - u * dt\n",
    "    Y_new = Y - v * dt\n",
    "    \n",
    "    # Mantener las coordenadas dentro del dominio [0, 1]\n",
    "    X_new = np.mod(X_new, 1)\n",
    "    Y_new = np.mod(Y_new, 1)\n",
    "\n",
    "    # ponemos las nuevas coordenadas dentro de la grilla\n",
    "    coords = np.array([Y_new.flatten() * (n-1), X_new.flatten() * (n-1)])\n",
    "    c_advected = map_coordinates(c, coords, order=1, mode='wrap').reshape(n, n)\n",
    "    \n",
    "    laplacian = (\n",
    "        np.roll(c_advected, 1, axis=0) +  # abajo (vecino arriba en array)\n",
    "        np.roll(c_advected, -1, axis=0) + # arriba (vecino abajo en array)\n",
    "        np.roll(c_advected, 1, axis=1) +  # derecha (vecino izquierda en array)\n",
    "        np.roll(c_advected, -1, axis=1)   # izquierda (vecino derecha en array)\n",
    "        - 4 * c_advected                  # menos 4 veces el centro\n",
    "    )\n",
    "    c_diffused = c_advected + D * laplacian\n",
    "    \n",
    "    return (c_diffused - c).flatten()"
   ]
  },
  {
   "cell_type": "markdown",
   "id": "5d45470c",
   "metadata": {},
   "source": [
    "El jacobiano tiene que tener las derivadas\n",
    "$$\n",
    "\\frac{\\partial F_i}{\\partial c_j}\n",
    "$$"
   ]
  },
  {
   "cell_type": "code",
   "execution_count": null,
   "id": "8ca895ed",
   "metadata": {},
   "outputs": [],
   "source": [
    "def approximate_jacobian(F, c, epsilon=1e-6):\n",
    "    \"\"\"\n",
    "    Aproxima la matriz Jacobiana J_F de la función F en el punto c usando diferencias finitas.\n",
    "\n",
    "    Parámetros:\n",
    "    - F: función que evalúa el residuo F(c).\n",
    "    - c: ndarray de forma (n²,), concentración actual aplanada.\n",
    "    - epsilon: perturbación pequeña usada para diferencias finitas (default 1e-6).\n",
    "\n",
    "    Retorna:\n",
    "    - J: ndarray de forma (n², n²), matriz Jacobiana aproximada.\n",
    "    \"\"\"\n",
    "    n2 = c.size\n",
    "    J = np.zeros((n2, n2))\n",
    "    F0 = F(c)  \n",
    "    \n",
    "    for i in range(n2):\n",
    "        e_i = np.zeros(n2)\n",
    "        e_i[i] = 1.0\n",
    "        F_perturbed = F(c + epsilon * e_i)\n",
    "        J[:, i] = (F_perturbed - F0)/epsilon\n",
    "    \n",
    "    return J\n"
   ]
  },
  {
   "cell_type": "code",
   "execution_count": null,
   "id": "0ec1b35a",
   "metadata": {},
   "outputs": [],
   "source": [
    "def newton_solver(F, c0_flat, tol=1e-6, max_iter=20):\n",
    "    \"\"\"\n",
    "    Resuelve F(c) = 0 utilizando el método de Newton clásico.\n",
    "\n",
    "    Parámetros:\n",
    "    - F: función que evalúa el residuo F(c).\n",
    "    - c0_flat: ndarray de forma (n²,), concentración inicial aplanada.\n",
    "    - tol: tolerancia para la norma del residuo que indica convergencia (default 1e-6).\n",
    "    - max_iter: número máximo de iteraciones permitidas (default 20).\n",
    "\n",
    "    Retorna:\n",
    "    - c_steady: ndarray de forma (n²,), solución aproximada donde F(c) ≈ 0.\n",
    "    \"\"\"\n",
    "    \n",
    "    pass"
   ]
  }
 ],
 "metadata": {
  "language_info": {
   "name": "python"
  }
 },
 "nbformat": 4,
 "nbformat_minor": 5
}
